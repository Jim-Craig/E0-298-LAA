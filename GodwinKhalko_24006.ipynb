{
 "cells": [
  {
   "cell_type": "code",
   "execution_count": 412,
   "id": "5e0f8c38-0127-4dd5-a0c5-6550cbf675ef",
   "metadata": {},
   "outputs": [],
   "source": [
    "import numpy as np\n",
    "import matplotlib.pyplot as plt\n",
    "import pandas as pd\n",
    "import time"
   ]
  },
  {
   "cell_type": "code",
   "execution_count": null,
   "id": "43ebc516-71fa-4775-8a13-1ee1ca077f49",
   "metadata": {},
   "outputs": [],
   "source": []
  },
  {
   "cell_type": "markdown",
   "id": "7396d172-5dc1-416c-8bac-2e9f5c79d545",
   "metadata": {},
   "source": [
    "# 1. Regression"
   ]
  },
  {
   "cell_type": "markdown",
   "id": "f8f95c0a-a500-4623-b155-87901fc9114d",
   "metadata": {},
   "source": [
    "## 1.1 Unconstrained\n"
   ]
  },
  {
   "cell_type": "markdown",
   "id": "c8e988c4-8b19-4039-b854-e393c59c68d1",
   "metadata": {},
   "source": [
    "### 1. Multilinear Regression"
   ]
  },
  {
   "cell_type": "markdown",
   "id": "ac9d1d38-e2d4-48e3-b03c-46c203894e11",
   "metadata": {},
   "source": [
    "#### Importing the data\n",
    "We're importing the data from the lin_regression folder of the DATA PA folder(For me it was the index 21). \n",
    "We're also shuffling the data and splitting the data in a 70:30 split of the data."
   ]
  },
  {
   "cell_type": "code",
   "execution_count": 413,
   "id": "3a584bc5-d7c9-403c-bf1a-05284c42a32f",
   "metadata": {},
   "outputs": [],
   "source": [
    "linearRegData = np.loadtxt(\"DATA PA/lin_regression/regression_data_021.txt\", delimiter=\",\", skiprows=1)\n",
    "np.random.shuffle(linearRegData)\n",
    "trainSplit = linearRegData[0:800, :]\n",
    "testSplit = linearRegData[800:1000, :]\n"
   ]
  },
  {
   "cell_type": "code",
   "execution_count": 414,
   "id": "80519fe5-2faa-4561-a53d-16592a079c99",
   "metadata": {},
   "outputs": [
    {
     "name": "stdout",
     "output_type": "stream",
     "text": [
      "SensorData shape : (800, 11) and positionData shape: (800, 3)\n"
     ]
    }
   ],
   "source": [
    "#Adding the bias term in the equation\n",
    "sensorData = trainSplit[:, 0:10]\n",
    "sensorData = np.c_[sensorData, np.ones(len(sensorData)).reshape(len(sensorData),1)]\n",
    "positionData = trainSplit[:, 10:13]\n",
    "print(\"SensorData shape : {} and positionData shape: {}\".format(sensorData.shape, positionData.shape))"
   ]
  },
  {
   "cell_type": "code",
   "execution_count": 415,
   "id": "32f13b44-4133-4eef-9f23-cc33a5e418e3",
   "metadata": {},
   "outputs": [],
   "source": [
    "normedSensorData = []\n",
    "normedPositionData = []\n",
    "for i in range(len(sensorData)):\n",
    "    normedSensorData.append(np.linalg.norm(sensorData[i, :]))\n",
    "    normedPositionData.append(np.linalg.norm(positionData[i, :]))"
   ]
  },
  {
   "cell_type": "code",
   "execution_count": 416,
   "id": "acff3062-7efa-4c1c-a362-fa5d8c0a473e",
   "metadata": {},
   "outputs": [
    {
     "data": {
      "text/plain": [
       "(800, 11)"
      ]
     },
     "execution_count": 416,
     "metadata": {},
     "output_type": "execute_result"
    }
   ],
   "source": [
    "sensorData.shape"
   ]
  },
  {
   "cell_type": "markdown",
   "id": "f93e4ab0-28da-4b53-ab72-92c04191944f",
   "metadata": {},
   "source": [
    "#### Minimization Problem\n",
    "We can see a (somewhat) linear trend between the normed sensor data and the normed position data. <br>\n",
    "We have the feature matix as $\\textbf{sensorData}$. We'd add a bias column to the $\\textbf{sensorData}$, let's call that as $A$ and the corresponding position vector as $Y$.<br>\n",
    "Let the weights of the minimzation problem be $X$<br>\n",
    "We have the optimisation problem $X$ as $$argmin_{X} f(X) = \\frac{1}{2}||AX-Y||^2$$ <br>\n",
    "Expanding this function, we'd have $$f(x) = X^TA^TAX - X^TA^TY - Y^TAX + Y^TT$$\n",
    "Taking the gradient, we've $$\\nabla f(x) = A^TAX - A^TY$$\n",
    "To minimise the function we need to take the $\\nabla f(x) = 0$, i.e. $$A^TAX - A^TY = 0 \\implies A^TAX = A^TY$$ \n",
    "We'd need to solve this equation and get the weights, $X$"
   ]
  },
  {
   "cell_type": "code",
   "execution_count": 417,
   "id": "04507c10-6e21-4cc2-902c-66861a71666c",
   "metadata": {
    "scrolled": true
   },
   "outputs": [
    {
     "data": {
      "text/plain": [
       "(800, 3)"
      ]
     },
     "execution_count": 417,
     "metadata": {},
     "output_type": "execute_result"
    }
   ],
   "source": [
    "positionData.shape"
   ]
  },
  {
   "cell_type": "code",
   "execution_count": 418,
   "id": "950d877e-b1eb-4202-86b8-158c2cde515f",
   "metadata": {},
   "outputs": [
    {
     "data": {
      "text/plain": [
       "(11, 3)"
      ]
     },
     "execution_count": 418,
     "metadata": {},
     "output_type": "execute_result"
    }
   ],
   "source": [
    "positionData = sensorData.T @ positionData\n",
    "positionData.shape"
   ]
  },
  {
   "cell_type": "code",
   "execution_count": 419,
   "id": "75688033-42a9-4029-b802-e7cfddd68fed",
   "metadata": {},
   "outputs": [
    {
     "data": {
      "text/plain": [
       "(11, 11)"
      ]
     },
     "execution_count": 419,
     "metadata": {},
     "output_type": "execute_result"
    }
   ],
   "source": [
    "sensorData = sensorData.T @ sensorData \n",
    "sensorData.shape"
   ]
  },
  {
   "cell_type": "code",
   "execution_count": 420,
   "id": "6daa8fa0-c2f2-43e0-9371-0564168d2e9f",
   "metadata": {},
   "outputs": [],
   "source": [
    "#Using the least-squares solution to a above linear matrix equation.\n",
    "weights, residuals, rank, s = np.linalg.lstsq(sensorData, positionData, rcond=None)\n",
    "def MSE(calculatedData, positionData):\n",
    "    errorTerms0 = calculatedData[0] - positionData[0]    \n",
    "    errorTerms1 = calculatedData[1] - positionData[1]    \n",
    "    errorTerms2 = calculatedData[2] - positionData[2]    \n",
    "    \n",
    "    squaredErrors0 = [errorTerms0[i] **2 for i in range(len(errorTerms0))]\n",
    "    squaredErrors1 = [errorTerms1[i] **2 for i in range(len(errorTerms1))]\n",
    "    squaredErrors2 = [errorTerms2[i] **2 for i in range(len(errorTerms2))]\n",
    "\n",
    "    meanSquaredError0 = round(np.mean(squaredErrors0),3)\n",
    "    meanSquaredError1 = round(np.mean(squaredErrors1),3)\n",
    "    meanSquaredError2 = round(np.mean(squaredErrors2),3)\n",
    "    # print(\"Mean Square Error 0 : {}, Mean Square Error 1 : {}, Mean Square Error 2 : {}\".format(meanSquaredError0, meanSquaredError1, meanSquaredError2))\n",
    "    return [meanSquaredError0, meanSquaredError1, meanSquaredError2]\n",
    "        "
   ]
  },
  {
   "cell_type": "code",
   "execution_count": 421,
   "id": "2354c2bb-fd77-43d1-a0cc-8118c3c4ca8a",
   "metadata": {},
   "outputs": [
    {
     "name": "stdout",
     "output_type": "stream",
     "text": [
      "[np.float64(0.0), np.float64(0.0), np.float64(0.0)]\n"
     ]
    }
   ],
   "source": [
    "calculatedData = sensorData @ weights \n",
    "print(MSE(calculatedData, positionData))"
   ]
  },
  {
   "cell_type": "markdown",
   "id": "aa557986-62bf-49d1-85cb-f2e514948df4",
   "metadata": {},
   "source": [
    "### Testing on the test data\n",
    "We use the test data to measure how well does the linear regression model work on the untrained(Test) data"
   ]
  },
  {
   "cell_type": "code",
   "execution_count": 422,
   "id": "6e3e7433-1dec-4bd8-baef-2e0a860d94c2",
   "metadata": {},
   "outputs": [
    {
     "name": "stdout",
     "output_type": "stream",
     "text": [
      "SensorData shape : (200, 11) and positionData shape: (200, 3)\n"
     ]
    }
   ],
   "source": [
    "sensorDataTest = testSplit[:, 0:10]\n",
    "sensorDataTest = np.c_[sensorDataTest, np.ones(len(sensorDataTest)).reshape(len(sensorDataTest),1)]\n",
    "\n",
    "positionDataTest = testSplit[:, 10:13]\n",
    "print(\"SensorData shape : {} and positionData shape: {}\".format(sensorDataTest.shape, positionDataTest.shape))"
   ]
  },
  {
   "cell_type": "code",
   "execution_count": 423,
   "id": "2168b675-274c-4130-9cf2-584d4546cbbd",
   "metadata": {},
   "outputs": [
    {
     "name": "stdout",
     "output_type": "stream",
     "text": [
      "[np.float64(0.022), np.float64(0.014), np.float64(0.01)]\n"
     ]
    }
   ],
   "source": [
    "calculatedDataTest = sensorDataTest @ weights \n",
    "print(MSE(calculatedDataTest, positionDataTest))"
   ]
  },
  {
   "cell_type": "markdown",
   "id": "9151f059-3052-47c6-8ffc-92cdb6c3ec21",
   "metadata": {},
   "source": [
    "#### Graphs and metrics\n",
    "We'll show the performance of the linear regression via the following metrics:\n",
    " * Pearson Correlation\n",
    " * Mean Squared Error\n",
    " * Mean Absolute Error<br>\n",
    "\n",
    "Along with this we'll check out some correlation graphs for the predicted and the calculated outputs on the test dataset"
   ]
  },
  {
   "cell_type": "code",
   "execution_count": 424,
   "id": "3231f9a9-8f8a-4d14-9c76-60820f698e5a",
   "metadata": {},
   "outputs": [],
   "source": [
    "def MAE(calculatedData, positionData):\n",
    "    errorTerms0 = calculatedData[0] - positionData[0]    \n",
    "    errorTerms1 = calculatedData[1] - positionData[1]    \n",
    "    errorTerms2 = calculatedData[2] - positionData[2]    \n",
    "    \n",
    "    absoluteErrors0 = [abs(errorTerms0[i]) for i in range(len(errorTerms0))]\n",
    "    absoluteErrors1 = [abs(errorTerms1[i]) for i in range(len(errorTerms1))]\n",
    "    absoluteErrors2 = [abs(errorTerms2[i]) for i in range(len(errorTerms2))]\n",
    "\n",
    "    meanAbsoluteError0 = round(np.mean(absoluteErrors0),2)\n",
    "    meanAbsoluteError1 = round(np.mean(absoluteErrors1),2)\n",
    "    meanAbsoluteError2 = round(np.mean(absoluteErrors2),2)\n",
    "    # print(\"Mean Absolute Error 0 : {}, Mean Absolute Error 1 : {}, Mean Absolute Error 2 : {}\".format(meanAbsoluteError0, meanAbsoluteError1, meanAbsoluteError2))\n",
    "    return [meanAbsoluteError0, meanAbsoluteError1, meanAbsoluteError2]\n",
    "        "
   ]
  },
  {
   "cell_type": "code",
   "execution_count": 425,
   "id": "7de4b508-5366-44f7-8cbc-7b3e8db031cd",
   "metadata": {},
   "outputs": [],
   "source": [
    "def pearsonCorrelation(X, Y):\n",
    "    if len(X) != len(Y):\n",
    "        raise ValueError(\"Vectors calculatedData and positionData must be of the same length\")\n",
    "    pearsonCorrelation = []\n",
    "    for i in range(3) :\n",
    "        calculatedData = X[:,i]\n",
    "        positionData = Y[:,i]\n",
    "        mean_calculatedData = np.mean(calculatedData)\n",
    "        mean_positionData = np.mean(positionData)\n",
    "        \n",
    "        numerator = np.sum((calculatedData - mean_calculatedData) * (positionData - mean_positionData))\n",
    "        denominator = np.sqrt(np.sum((calculatedData - mean_calculatedData)**2)) * np.sqrt(np.sum((positionData - mean_positionData)**2))\n",
    "        if denominator == 0:\n",
    "            return 0\n",
    "        pearsonCorrelation.extend([(numerator / denominator)])\n",
    "    return np.array(pearsonCorrelation)"
   ]
  },
  {
   "cell_type": "code",
   "execution_count": 426,
   "id": "1cabc317-60dd-4f5c-adb0-bec1a5951672",
   "metadata": {},
   "outputs": [],
   "source": [
    "# Calculate Pearson correlation coefficient\n",
    "def measureMetrics(x, y):\n",
    "    pearsonCorr = pearsonCorrelation(x, y)\n",
    "    mse = np.round(MSE(x, y),2)\n",
    "    mae = np.round(MAE(x, y),2)\n",
    "    print(\" Pearsons correlatoin coefficient 1st co-ordinate is {}, 2nd co-ordinate is {}, 3rd co-ordinate is {} \\n\".format(round(pearsonCorr[0],5),\n",
    "                                                                                                                            round(pearsonCorr[1],5),\n",
    "                                                                                                                            round(pearsonCorr[2],5)))\n",
    "    print(\" Mean Square Error of 1st co-ordinate is {}, 2nd co-ordinate is {}, 3rd co-ordinate is {} \\n\".format(mse[0], mse[1], mse[2]))\n",
    "    print(\" Mean absolute Error of 1st co-ordinate is {}, 2nd co-ordinate is {}, 3rd co-ordinate is {} \\n\".format(mae[0], mae[1],mae[2]))\n",
    "    return [pearsonCorr, mse, mae]\n"
   ]
  },
  {
   "cell_type": "markdown",
   "id": "2de817c5-6ae2-4a8f-ba50-c5c975825376",
   "metadata": {},
   "source": [
    "##### Graphs"
   ]
  },
  {
   "cell_type": "code",
   "execution_count": 427,
   "id": "739f7dcb-499e-4e78-a59b-97f69bbea595",
   "metadata": {
    "scrolled": true
   },
   "outputs": [
    {
     "data": {
      "image/png": "[encoded data removed]",
      "text/plain": [
       "<Figure size 1500x300 with 3 Axes>"
      ]
     },
     "metadata": {},
     "output_type": "display_data"
    }
   ],
   "source": [
    "  # Plotting\n",
    "# TODO: Make this a function \n",
    "fig, axs = plt.subplots(1, 3, figsize=(15, 3))\n",
    "for i in range(3): \n",
    "    y = calculatedDataTest[:,i]\n",
    "    x = positionDataTest[:,i]\n",
    "    # axs[i].set_figure(figsize=(3, 3))\n",
    "    axs[i].scatter(x, y, color=\"b\", label=\"Data points\")\n",
    "    axs[i].set_title(\"Linear Regression for Y{}\".format(i))\n",
    "    axs[i].set_xlabel(\"Actual Y\")\n",
    "    axs[i].set_ylabel(\"Predicted Y\")\n",
    "    \n",
    "    \n",
    "    \n",
    "    # Optional: Line of best fit\n",
    "    m, b = np.polyfit(x, y, 1)\n",
    "    axs[i].plot(x, m * x + b, color=\"red\", label=\"Correlation line\")\n",
    "    axs[i].legend()\n",
    "    \n",
    "plt.subplots_adjust(wspace=0.7)\n",
    "plt.show()"
   ]
  },
  {
   "cell_type": "markdown",
   "id": "ace245e1-9ad9-488b-b523-2a98576af6b2",
   "metadata": {},
   "source": [
    "##### Measure Metrics"
   ]
  },
  {
   "cell_type": "code",
   "execution_count": 428,
   "id": "c952dd2d-3a47-40bf-9435-cfde75e0f0ca",
   "metadata": {},
   "outputs": [
    {
     "name": "stdout",
     "output_type": "stream",
     "text": [
      " Pearsons correlatoin coefficient 1st co-ordinate is 0.99996, 2nd co-ordinate is 0.99994, 3rd co-ordinate is 0.99997 \n",
      "\n",
      " Mean Square Error of 1st co-ordinate is 0.02, 2nd co-ordinate is 0.01, 3rd co-ordinate is 0.01 \n",
      "\n",
      " Mean absolute Error of 1st co-ordinate is 0.1, 2nd co-ordinate is 0.09, 3rd co-ordinate is 0.08 \n",
      "\n"
     ]
    },
    {
     "data": {
      "text/plain": [
       "[array([0.99995752, 0.99993948, 0.99996987]),\n",
       " array([0.02, 0.01, 0.01]),\n",
       " array([0.1 , 0.09, 0.08])]"
      ]
     },
     "execution_count": 428,
     "metadata": {},
     "output_type": "execute_result"
    }
   ],
   "source": [
    "measureMetrics(calculatedDataTest, positionDataTest)"
   ]
  },
  {
   "cell_type": "markdown",
   "id": "aa28e887-3fb1-4083-9e4c-aecdcb6f2a2a",
   "metadata": {},
   "source": [
    "#### Results and Conclusion\n",
    "We can see that the model performs comparably on the test and the train datasets <br> Thus we conclude that the relationship between the SensorData and the Particle position data are linear and given by  $$\\textbf{positionData} = \\textbf{SensorData}.\\textbf{Weights}$$\n",
    "where $\\textbf{Weights}$ is a matrix of dimentions $(10, 3)$ which are the coefficients that minimises the MSE\n",
    "\n",
    "We can also see the $\\textbf{Pearson Coefficient}$,$\\textbf{ Mean Square Error}$,$\\textbf{Mean absolute Error}$ of each of the component of the position of the particle"
   ]
  },
  {
   "cell_type": "markdown",
   "id": "52d42103-2e45-4a0a-bfbb-1f0ba24c3a06",
   "metadata": {},
   "source": [
    "### 2. Generalised Regression with polynomial kernel\n"
   ]
  },
  {
   "cell_type": "markdown",
   "id": "1fe7ba5c-cb7c-45c7-aa3c-904da15b9df7",
   "metadata": {},
   "source": [
    "#### Importing the data\n",
    "We're importing the data from the lin_regression folder of the DATA PA folder(For me it was the index 21). \n",
    "We're also shuffling the data and splitting the data in a 70:30 split of the data and then fitting the regression model"
   ]
  },
  {
   "cell_type": "code",
   "execution_count": 429,
   "id": "cabd96a2-a42a-4c27-b940-303663e980f8",
   "metadata": {},
   "outputs": [],
   "source": [
    "polyLinearRegData = np.loadtxt(\"DATA PA/poly_regression/poly_regression_data_021.txt\", delimiter=\",\", skiprows=1)\n",
    "\n",
    "np.random.shuffle(polyLinearRegData)\n",
    "splitLength = int(len(polyLinearRegData)*0.8)\n",
    "trainSplit = polyLinearRegData[0:splitLength, :]\n",
    "testSplit = polyLinearRegData[splitLength:, :]\n"
   ]
  },
  {
   "cell_type": "code",
   "execution_count": 430,
   "id": "60d9ff40-b100-4a33-b311-4a85fa4e1f05",
   "metadata": {},
   "outputs": [
    {
     "name": "stdout",
     "output_type": "stream",
     "text": [
      "SensorData shape : (8000, 2) and positionData shape: (8000, 3)\n"
     ]
    }
   ],
   "source": [
    "sensorData = trainSplit[:, 0:2]\n",
    "positionData = trainSplit[:, 2:5]\n",
    "print(\"SensorData shape : {} and positionData shape: {}\".format(sensorData.shape, positionData.shape))"
   ]
  },
  {
   "cell_type": "code",
   "execution_count": 431,
   "id": "cd8043e1-85b8-4a26-9b23-1f5e5bbf156f",
   "metadata": {},
   "outputs": [],
   "source": [
    "def polynomial_features(x, y, degree):\n",
    "    features = []\n",
    "    for i in range(degree + 1):\n",
    "        for j in range(degree + 1 - i):\n",
    "            features.append((x ** i) * (y ** j))\n",
    "    return np.vstack(features).T"
   ]
  },
  {
   "cell_type": "markdown",
   "id": "8d1c556d-f34e-4221-a52c-80a1eee54616",
   "metadata": {},
   "source": [
    "##### Preparing the model for polynomial kernels \n",
    "We'd like to train the model on a bot more complicated model than just simple linear regression. For this we'll use the polynomial kernel, i.e. for a 2 feature vector, $X_1$ and $X_2$ and a degree k, we'll get all polynomial terms of $X_1$ and $X_2$ of degree 2 as well as the polynomial terms less than 2 such as : $X_1^2$ , $X_2^2$ , $X_1X_2$, $X_1$ ,$X_2$ and $1$  \n",
    "So, for the output vector $Y$, we'd have the equation as : $$ a_1*X_1^2 + a_2*X_2^2 + a_3*X_1X_2 + a_4*X_1 + a_5*X_2 + a_6* I = Y  $$\n",
    "So, we need to find the coefficients, $a_1, a_2, a_3, a_4, a_5, a_6$<br>\n",
    "Let's have the Matrix $A$ having the columns as these column-vectors : $X_1^2$ , $X_2^2$ , $X_1X_2$, $X_1$ ,$X_2$ and $1$ <br> let the vector $X$ be the vector the coefficients: $a_1, a_2, a_3, a_4, a_5, a_6$ <br>\n",
    "So, this problem becomes a minimisation problem of $$argmin_{X} f(X) = \\frac{1}{2}||AX-Y||^2$$ <br>  \n",
    "<br>\n",
    "Like above, To minimise the function we need to take the $\\nabla f(x) = 0$, i.e. $$A^TAX - A^TY = 0 \\implies A^TAX = A^TY$$ <br>\n",
    "Given the polynomial kernels(polynomial terms), we'll like to perform regression on the polynomial terms.<br> We'll first generate the polynomial kernels for degree: 1, 2, 3, 4"
   ]
  },
  {
   "cell_type": "code",
   "execution_count": 432,
   "id": "59ef4943-8b47-4625-96bd-4d343e7d73d4",
   "metadata": {},
   "outputs": [],
   "source": [
    "feature1 = sensorData[:,0]\n",
    "feature2 = sensorData[:,1]\n",
    "\n",
    "#Generating the feature kernel for degree 1 and its weights\n",
    "polynomialKernel1 = polynomial_features(feature1, feature2, 1)\n",
    "\n",
    "#Generating the feature kernel for degree 2 and its weights\n",
    "polynomialKernel2 = polynomial_features(feature1, feature2, 2)\n",
    "\n",
    "#Generating the feature kernel for degree 3 and its weights\n",
    "polynomialKernel3 = polynomial_features(feature1, feature2, 3)\n",
    "\n",
    "#Generating the feature kernel for degree 4 and its weights\n",
    "polynomialKernel4 = polynomial_features(feature1, feature2, 4)\n"
   ]
  },
  {
   "cell_type": "code",
   "execution_count": 433,
   "id": "74ab3cc2-dd59-463c-bc78-893d721de6bd",
   "metadata": {
    "scrolled": true
   },
   "outputs": [],
   "source": [
    "postitionData1 = polynomialKernel1.T @ positionData\n",
    "postitionData2 = polynomialKernel2.T @ positionData\n",
    "postitionData3 = polynomialKernel3.T @ positionData\n",
    "postitionData4 = polynomialKernel4.T @ positionData"
   ]
  },
  {
   "cell_type": "code",
   "execution_count": 434,
   "id": "1684a8e6-13c6-4f94-80b3-2117ba205dd2",
   "metadata": {},
   "outputs": [
    {
     "data": {
      "text/plain": [
       "(3, 3)"
      ]
     },
     "execution_count": 434,
     "metadata": {},
     "output_type": "execute_result"
    }
   ],
   "source": [
    "polynomialKernel1 = polynomialKernel1.T @ polynomialKernel1\n",
    "polynomialKernel2 = polynomialKernel2.T @ polynomialKernel2\n",
    "polynomialKernel3 = polynomialKernel3.T @ polynomialKernel3\n",
    "polynomialKernel4 = polynomialKernel4.T @ polynomialKernel4\n",
    "\n",
    "polynomialKernel1.shape"
   ]
  },
  {
   "cell_type": "code",
   "execution_count": 435,
   "id": "57fef29d-90da-46b4-8d12-071789ac9794",
   "metadata": {},
   "outputs": [],
   "source": [
    "#Calculating the weights on the polynomial kernel\n",
    "weights1, residuals, rank, s = np.linalg.lstsq(polynomialKernel1, postitionData1, rcond=None)\n",
    "weights2, residuals, rank, s = np.linalg.lstsq(polynomialKernel2, postitionData2, rcond=None)\n",
    "weights3, residuals, rank, s = np.linalg.lstsq(polynomialKernel3, postitionData3, rcond=None)\n",
    "weights4, residuals, rank, s = np.linalg.lstsq(polynomialKernel4, postitionData4, rcond=None)\n"
   ]
  },
  {
   "cell_type": "code",
   "execution_count": 436,
   "id": "93185254-d807-40bb-9cdf-334a8e21919b",
   "metadata": {},
   "outputs": [
    {
     "data": {
      "text/plain": [
       "((3, 3), (6, 3), (10, 3), (15, 3))"
      ]
     },
     "execution_count": 436,
     "metadata": {},
     "output_type": "execute_result"
    }
   ],
   "source": [
    "weights1.shape, weights2.shape, weights3.shape, weights4.shape"
   ]
  },
  {
   "cell_type": "markdown",
   "id": "8fc0458f-0969-409c-980d-aa0514b17025",
   "metadata": {},
   "source": [
    "##### Checking the MSE on the trained dataset"
   ]
  },
  {
   "cell_type": "code",
   "execution_count": 437,
   "id": "ba3745f2-29cd-4f91-867a-e5a692614045",
   "metadata": {},
   "outputs": [
    {
     "name": "stdout",
     "output_type": "stream",
     "text": [
      "The MSE for the Polynomial kernel of degree 1 is [np.float64(0.0), np.float64(0.0), np.float64(0.0)]\n",
      "The MSE for the Polynomial kernel of degree 2 is [np.float64(0.0), np.float64(0.0), np.float64(0.0)]\n",
      "The MSE for the Polynomial kernel of degree 3 is [np.float64(0.0), np.float64(0.0), np.float64(0.0)]\n",
      "The MSE for the Polynomial kernel of degree 4 is [np.float64(0.0), np.float64(0.0), np.float64(0.0)]\n"
     ]
    }
   ],
   "source": [
    "calculatedData1 = polynomialKernel1 @ weights1 \n",
    "print(\"The MSE for the Polynomial kernel of degree 1 is {}\".format(MSE(calculatedData1, postitionData1)))\n",
    "\n",
    "calculatedData2 = polynomialKernel2 @ weights2 \n",
    "print(\"The MSE for the Polynomial kernel of degree 2 is {}\".format(MSE(calculatedData2, postitionData2)))\n",
    "\n",
    "calculatedData3 = polynomialKernel3 @ weights3 \n",
    "print(\"The MSE for the Polynomial kernel of degree 3 is {}\".format(MSE(calculatedData3, postitionData3)))\n",
    "\n",
    "calculatedData4 = polynomialKernel4 @ weights4 \n",
    "print(\"The MSE for the Polynomial kernel of degree 4 is {}\".format(MSE(calculatedData4, postitionData4)))"
   ]
  },
  {
   "cell_type": "markdown",
   "id": "93112466-ef43-4fd1-bf2e-26b7a0d3f989",
   "metadata": {},
   "source": [
    "### Testing on the test data\n",
    "We use the test data to measure how well does the linear regression model work on the untrained(Test) data"
   ]
  },
  {
   "cell_type": "code",
   "execution_count": 438,
   "id": "54c0b71e-5b5f-4760-81b1-6a533aad5dd0",
   "metadata": {},
   "outputs": [
    {
     "name": "stdout",
     "output_type": "stream",
     "text": [
      "SensorDataTest shape : (2000, 2) and positionDataTest shape: (2000, 3)\n"
     ]
    }
   ],
   "source": [
    "sensorDataTest = testSplit[:, 0:2]\n",
    "positionDataTest = testSplit[:, 2:5]\n",
    "print(\"SensorDataTest shape : {} and positionDataTest shape: {}\".format(sensorDataTest.shape, positionDataTest.shape))"
   ]
  },
  {
   "cell_type": "code",
   "execution_count": 439,
   "id": "66a2c8bd-548b-49cc-b1c1-83b008928009",
   "metadata": {},
   "outputs": [],
   "source": [
    "feature1Test = sensorDataTest[:,0]\n",
    "feature2Test = sensorDataTest[:,1]\n",
    "\n",
    "#Generating the feature kernel for degree 1 and its weights\n",
    "polynomialKernel1test = polynomial_features(feature1Test, feature2Test, 1)\n",
    "\n",
    "#Generating the feature kernel for degree 2 and its weights\n",
    "polynomialKernel2test = polynomial_features(feature1Test, feature2Test, 2)\n",
    "\n",
    "#Generating the feature kernel for degree 3 and its weights\n",
    "polynomialKernel3test = polynomial_features(feature1Test, feature2Test, 3)\n",
    "\n",
    "#Generating the feature kernel for degree 4 and its weights\n",
    "polynomialKernel4test = polynomial_features(feature1Test, feature2Test, 4)\n"
   ]
  },
  {
   "cell_type": "markdown",
   "id": "ff21051d-dd79-4d12-90a8-48ca66e54f32",
   "metadata": {},
   "source": [
    "#### Graphs and metrics\n",
    "We'll show the performance of the linear regression via the following metrics:\n",
    " * Pearson Correlation\n",
    " * Mean Squared Error\n",
    " * Mean Absolute Error<br>\n",
    "\n",
    "Along with this we'll check out some correlation graphs for the predicted and the calculated outputs on the test dataset"
   ]
  },
  {
   "cell_type": "markdown",
   "id": "6dbac063-32e2-448f-8813-b359354d1968",
   "metadata": {},
   "source": [
    "##### Checking the Metrics on Test Data"
   ]
  },
  {
   "cell_type": "code",
   "execution_count": 440,
   "id": "3ab02c14-551f-440c-85ac-3dd1a377b800",
   "metadata": {},
   "outputs": [
    {
     "name": "stdout",
     "output_type": "stream",
     "text": [
      "Metrics for Polynomial kernel of degree 1\n",
      " Pearsons correlatoin coefficient 1st co-ordinate is 0.90197, 2nd co-ordinate is 0.34015, 3rd co-ordinate is 0.82108 \n",
      "\n",
      " Mean Square Error of 1st co-ordinate is 0.31, 2nd co-ordinate is 0.07, 3rd co-ordinate is 0.82 \n",
      "\n",
      " Mean absolute Error of 1st co-ordinate is 0.44, 2nd co-ordinate is 0.23, 3rd co-ordinate is 0.78 \n",
      "\n",
      "\n",
      "Metrics for Polynomial kernel of degree 2\n",
      " Pearsons correlatoin coefficient 1st co-ordinate is 0.98177, 2nd co-ordinate is 0.95169, 3rd co-ordinate is 0.90153 \n",
      "\n",
      " Mean Square Error of 1st co-ordinate is 0.24, 2nd co-ordinate is 0.05, 3rd co-ordinate is 0.2 \n",
      "\n",
      " Mean absolute Error of 1st co-ordinate is 0.43, 2nd co-ordinate is 0.15, 3rd co-ordinate is 0.4 \n",
      "\n",
      "\n",
      "Metrics for Polynomial kernel of degree 3\n",
      " Pearsons correlatoin coefficient 1st co-ordinate is 0.99325, 2nd co-ordinate is 0.98859, 3rd co-ordinate is 0.98055 \n",
      "\n",
      " Mean Square Error of 1st co-ordinate is 0.01, 2nd co-ordinate is 0.12, 3rd co-ordinate is 0.05 \n",
      "\n",
      " Mean absolute Error of 1st co-ordinate is 0.09, 2nd co-ordinate is 0.34, 3rd co-ordinate is 0.21 \n",
      "\n",
      "\n",
      "Metrics for Polynomial kernel of degree 4\n",
      " Pearsons correlatoin coefficient 1st co-ordinate is 0.99868, 2nd co-ordinate is 0.99677, 3rd co-ordinate is 0.99593 \n",
      "\n",
      " Mean Square Error of 1st co-ordinate is 0.01, 2nd co-ordinate is 0.02, 3rd co-ordinate is 0.0 \n",
      "\n",
      " Mean absolute Error of 1st co-ordinate is 0.08, 2nd co-ordinate is 0.16, 3rd co-ordinate is 0.04 \n",
      "\n"
     ]
    }
   ],
   "source": [
    "calculatedData1 = polynomialKernel1test @ weights1 \n",
    "print(\"Metrics for Polynomial kernel of degree 1\")\n",
    "metrics1 = measureMetrics(calculatedData1, positionDataTest)\n",
    "\n",
    "calculatedData2 = polynomialKernel2test @ weights2 \n",
    "print(\"\\nMetrics for Polynomial kernel of degree 2\")\n",
    "metrics2 = measureMetrics(calculatedData2, positionDataTest)\n",
    "\n",
    "calculatedData3 = polynomialKernel3test @ weights3 \n",
    "print(\"\\nMetrics for Polynomial kernel of degree 3\")\n",
    "metrics3 = measureMetrics(calculatedData3, positionDataTest)\n",
    "\n",
    "calculatedData4 = polynomialKernel4test @ weights4 \n",
    "print(\"\\nMetrics for Polynomial kernel of degree 4\")\n",
    "metrics4 = measureMetrics(calculatedData4, positionDataTest)"
   ]
  },
  {
   "cell_type": "code",
   "execution_count": 441,
   "id": "380edc68-7e56-4774-b39c-6df035ffa8a8",
   "metadata": {},
   "outputs": [
    {
     "data": {
      "text/plain": [
       "np.float64(0.8210839484383345)"
      ]
     },
     "execution_count": 441,
     "metadata": {},
     "output_type": "execute_result"
    }
   ],
   "source": [
    "metrics1[0][2]"
   ]
  },
  {
   "cell_type": "markdown",
   "id": "965b93eb-bb71-4d90-b0d6-ce1c10a24be1",
   "metadata": {},
   "source": [
    "##### Checking for the graphs"
   ]
  },
  {
   "cell_type": "code",
   "execution_count": 442,
   "id": "e5e263d4-d86b-42d1-a084-6dc7cf29d869",
   "metadata": {
    "scrolled": true
   },
   "outputs": [
    {
     "data": {
      "image/png": "[encoded data removed]",
      "text/plain": [
       "<Figure size 1500x300 with 3 Axes>"
      ]
     },
     "metadata": {},
     "output_type": "display_data"
    }
   ],
   "source": [
    "fig, axs = plt.subplots(1, 3, figsize=(15, 3))\n",
    "#Figure for degree 1\n",
    "for i in range(3): \n",
    "    x = calculatedData1[:,i]\n",
    "    y = positionDataTest[:,i]\n",
    "    # axs[i].set_figure(figsize=(3, 3))\n",
    "    axs[i].scatter(x, y, color=\"b\", label=\"Data points\")\n",
    "    axs[i].set_title(\"Degree 1 Pearson Correlation : {}\".format(round(metrics1[0][i],3)))\n",
    "    axs[i].set_xlabel(\"Predicted values\")\n",
    "    axs[i].set_ylabel(\"Test values\")\n",
    "    \n",
    "    \n",
    "    \n",
    "    # Optional: Line of best fit\n",
    "    m, b = np.polyfit(x, y, 1)\n",
    "    axs[i].plot(x, m * x + b, color=\"red\", label=\"Correlation line\")\n",
    "    axs[i].legend()\n",
    "    \n",
    "\n",
    "    \n",
    "plt.subplots_adjust(wspace=0.7)\n",
    "plt.show()"
   ]
  },
  {
   "cell_type": "code",
   "execution_count": 443,
   "id": "84ae920e-aae3-4399-b463-eb06fdd4d927",
   "metadata": {},
   "outputs": [
    {
     "data": {
      "image/png": "[encoded data removed]",
      "text/plain": [
       "<Figure size 1500x300 with 3 Axes>"
      ]
     },
     "metadata": {},
     "output_type": "display_data"
    }
   ],
   "source": [
    "fig, axs = plt.subplots(1, 3, figsize=(15, 3))\n",
    "#Figure for degree 2\n",
    "for i in range(3): \n",
    "    x = calculatedData2[:,i]\n",
    "    y = positionDataTest[:,i]\n",
    "    # axs[i].set_figure(figsize=(3, 3))\n",
    "    axs[i].scatter(x, y, color=\"b\", label=\"Data points\")\n",
    "    axs[i].set_title(\"Degree 2 Pearson Correlation : {}\".format(round(metrics2[0][i],3)))\n",
    "    axs[i].set_xlabel(\"Predicted values\")\n",
    "    axs[i].set_ylabel(\"Test values\")\n",
    "    \n",
    "    \n",
    "    \n",
    "    # Optional: Line of best fit\n",
    "    m, b = np.polyfit(x, y, 1)\n",
    "    axs[i].plot(x, m * x + b, color=\"red\", label=\"Correlation line\")\n",
    "    axs[i].legend()\n",
    "\n",
    "plt.subplots_adjust(wspace=0.7)\n",
    "plt.show()"
   ]
  },
  {
   "cell_type": "code",
   "execution_count": 444,
   "id": "cc4e92ce-329e-4917-9eda-a2def00706be",
   "metadata": {},
   "outputs": [
    {
     "data": {
      "image/png": "[encoded data removed]",
      "text/plain": [
       "<Figure size 1500x300 with 3 Axes>"
      ]
     },
     "metadata": {},
     "output_type": "display_data"
    }
   ],
   "source": [
    "#Figure for degree 3\n",
    "fig, axs = plt.subplots(1, 3, figsize=(15, 3))\n",
    "for i in range(3): \n",
    "    x = calculatedData1[:,i]\n",
    "    y = positionDataTest[:,i]\n",
    "    # axs[i].set_figure(figsize=(3, 3))\n",
    "    axs[i].scatter(x, y, color=\"b\", label=\"Data points\")\n",
    "    axs[i].set_title(\"Degree 3 Pearson Correlation : {}\".format(round(metrics3[0][i],3)))\n",
    "    axs[i].set_xlabel(\"Predicted values\")\n",
    "    axs[i].set_ylabel(\"Test values\")\n",
    "    \n",
    "    \n",
    "    \n",
    "    # Optional: Line of best fit\n",
    "    m, b = np.polyfit(x, y, 1)\n",
    "    axs[i].plot(x, m * x + b, color=\"red\", label=\"Correlation line\")\n",
    "    axs[i].legend()\n",
    "\n"
   ]
  },
  {
   "cell_type": "code",
   "execution_count": 446,
   "id": "0eeb5b46-071e-4ef8-b4d2-c68bccf3cbab",
   "metadata": {},
   "outputs": [
    {
     "data": {
      "image/png": "[encoded data removed]",
      "text/plain": [
       "<Figure size 1500x300 with 3 Axes>"
      ]
     },
     "metadata": {},
     "output_type": "display_data"
    }
   ],
   "source": [
    "#Figure for degree 4\n",
    "fig, axs = plt.subplots(1, 3, figsize=(15, 3))\n",
    "\n",
    "for i in range(3): \n",
    "    x = calculatedData1[:,i]\n",
    "    y = positionDataTest[:,i]\n",
    "    # axs[i].set_figure(figsize=(3, 3))\n",
    "    axs[i].scatter(x, y, color=\"b\", label=\"Data points\")\n",
    "    axs[i].set_title(\"Degree 4 Pearson Correlation : {}\".format(round(metrics4[0][i],3)))\n",
    "    axs[i].set_xlabel(\"Predicted values\")\n",
    "    axs[i].set_ylabel(\"Test values\")\n",
    "    \n",
    "    \n",
    "    \n",
    "    # Optional: Line of best fit\n",
    "    m, b = np.polyfit(x, y, 1)\n",
    "    axs[i].plot(x, m * x + b, color=\"red\", label=\"Correlation line\")\n",
    "\n",
    "    axs[i].legend()"
   ]
  },
  {
   "cell_type": "markdown",
   "id": "3bc08255-09c2-484a-8e0b-bd441e747762",
   "metadata": {},
   "source": [
    "#### Conclusion and Result\n",
    "We can see that pearson's correlation coefficient decreses as we increase the degree, as evidient from the metrics. But it seen observed that the predicted results fit the actual values best for the degree 2"
   ]
  },
  {
   "cell_type": "markdown",
   "id": "7402c2e4-0cd7-4539-9815-ac47dfbf5284",
   "metadata": {},
   "source": [
    "## 1.2 (Linear) Constrained\n",
    "So, we're given the optimisation problem from the $\\textbf{Multilinear Regression}$ problem, so we've to solve the following the optimization problem problem for $X$ as $$argmin_{X} f(X) = \\frac{1}{2}||AX-Y||^2$$ <br>\n",
    "Where: \n",
    "* $A$ is the $\\textbf{800 x 11 }$ matrix consisting of the bias term and the other 10 columns are the sensor data\n",
    "* $X$ is a $\\textbf{11 x 3 }$ vector consisting of the appropriate coefficients that minimiseds the expression above\n",
    "* $X$ is a $\\textbf{800 x 3 }$ vector consisting of the 3 co-ordinates of the position vector\n",
    "\n",
    "In addition to this, we've the constrains given by: $$CX = D - (1)$$\n",
    "Where: \n",
    "* $C$ is the $\\textbf{3 x 11 }$ matrix consisting of the bias term and the other 10 columns are the constraints data\n",
    "* $X$ is a $\\textbf{11 x 3 }$ vector consisting of the appropriate coefficients that minimiseds the expression above and the constraints\n",
    "* $D$ is a $\\textbf{3 x 3 }$ matrix consisting of the constraints output horizontal stacked 3 times\n",
    "\n",
    "We take the $\\mathcal{L}(X, \\mu) = \\frac{1}{2}||AX-Y||^2 + \\mu(CX - D)$\n",
    "Now taking the derivative of  $\\mathcal{L}(X, \\mu)$ and equating it to 0, we have $$A^TAX - X^T\\mu = A^TY - (2)$$ \n",
    "\n",
    "We have a system of linear equation and we need to solve $1$ and $2 $ for $X$ to find the solution of the constraint problem. Thus rewriting the entire thing into a Matrix equation: \n",
    "\n",
    "\\begin{gather}\n",
    " \\begin{bmatrix} C & 0 \\\\ A^TA & -A^T \\end{bmatrix}\n",
    " \\begin{bmatrix} X \\\\ \\mu \\end{bmatrix}\n",
    " =\n",
    "  \\begin{bmatrix} D \\\\ A^TY \\end{bmatrix}\n",
    "\\end{gather}\n",
    "<br> Solving this, would give us the X that minimises the original optimisatio problem and adheres to the constrains"
   ]
  },
  {
   "cell_type": "markdown",
   "id": "8b6e3405-24e4-4538-9e95-2146dda93d09",
   "metadata": {},
   "source": [
    "#### Importing the data\n",
    "We're importing the data from the lin_regression folder of the DATA PA folder(For me it was the index 21). \n",
    "We're also shuffling the data and splitting the data in a 80:20 split of the data.<br> We'll import the constraints and make some adjustments"
   ]
  },
  {
   "cell_type": "code",
   "execution_count": 447,
   "id": "5171322d-86ba-4290-b16f-5ead784728c0",
   "metadata": {},
   "outputs": [],
   "source": [
    "constraintsMatrix = np.loadtxt(\"DATA PA/constraints/constraints_021.txt\", delimiter=\",\", skiprows=1, max_rows=3)\n",
    "constraintsResult = np.loadtxt(\"DATA PA/constraints/constraints_021.txt\", delimiter=\",\", skiprows=4)"
   ]
  },
  {
   "cell_type": "code",
   "execution_count": 448,
   "id": "807d22d1-8c3f-44d8-ad0a-e57f4320e306",
   "metadata": {},
   "outputs": [
    {
     "data": {
      "text/plain": [
       "((3, 10), (3,))"
      ]
     },
     "execution_count": 448,
     "metadata": {},
     "output_type": "execute_result"
    }
   ],
   "source": [
    "constraintsMatrix.shape, constraintsResult.shape"
   ]
  },
  {
   "cell_type": "code",
   "execution_count": 449,
   "id": "f45f173c-6795-4103-9c20-1d1b7de558e9",
   "metadata": {},
   "outputs": [
    {
     "data": {
      "text/plain": [
       "(3, 11)"
      ]
     },
     "execution_count": 449,
     "metadata": {},
     "output_type": "execute_result"
    }
   ],
   "source": [
    "#Adding Bias term to the matrix\n",
    "constraintsMatrix = np.hstack((constraintsMatrix, np.zeros(len(constraintsMatrix)).reshape(len(constraintsMatrix),1)))\n",
    "constraintsMatrix.shape"
   ]
  },
  {
   "cell_type": "code",
   "execution_count": 450,
   "id": "ffcbe324-6805-4f18-a5ef-890a48f95f6a",
   "metadata": {},
   "outputs": [
    {
     "data": {
      "text/plain": [
       "array([[ 1.762616,  7.954275,  7.830615,  6.31675 , -9.282208,  3.835152,\n",
       "        -2.426381,  0.370219,  3.159029, -6.122996,  0.      ],\n",
       "       [-4.553672,  4.372119,  5.660072,  7.006553,  5.504898, -9.266714,\n",
       "        -7.666125,  5.025614, -5.215636, -4.90388 ,  0.      ],\n",
       "       [ 7.152511,  8.995581,  1.233737, -6.42439 ,  5.405039, -0.152379,\n",
       "         2.625061,  6.789958, -0.779212, -0.041199,  0.      ]])"
      ]
     },
     "execution_count": 450,
     "metadata": {},
     "output_type": "execute_result"
    }
   ],
   "source": [
    "constraintsMatrix"
   ]
  },
  {
   "cell_type": "markdown",
   "id": "c28a8f26-e234-4e84-8de6-758fc92e657d",
   "metadata": {},
   "source": [
    "Now, we'll import the data and add the bias terms"
   ]
  },
  {
   "cell_type": "code",
   "execution_count": 451,
   "id": "a98d93d7-46b0-49e8-84fc-c2f637a04d18",
   "metadata": {},
   "outputs": [],
   "source": [
    "linearRegData = np.loadtxt(\"DATA PA/lin_regression/regression_data_021.txt\", delimiter=\",\", skiprows=1)\n",
    "np.random.shuffle(linearRegData)\n",
    "splitLength = int(len(linearRegData)*0.8)\n",
    "trainSplit = linearRegData[0:splitLength, :]\n",
    "testSplit = linearRegData[splitLength:, :]\n"
   ]
  },
  {
   "cell_type": "code",
   "execution_count": 452,
   "id": "0791a24b-d5ce-44f6-b9a2-d4f95aaafff9",
   "metadata": {},
   "outputs": [
    {
     "name": "stdout",
     "output_type": "stream",
     "text": [
      "SensorData shape : (8000, 10) and positionData shape: (8000, 3)\n"
     ]
    }
   ],
   "source": [
    "#Adding the bias term in the equation\n",
    "sensorData = trainSplit[:, 0:10]\n",
    "positionData = trainSplit[:, 10:13]\n",
    "print(\"SensorData shape : {} and positionData shape: {}\".format(sensorData.shape, positionData.shape))"
   ]
  },
  {
   "cell_type": "code",
   "execution_count": 453,
   "id": "260345c5-1635-42c7-9f56-df4b32e71a1a",
   "metadata": {},
   "outputs": [
    {
     "data": {
      "text/plain": [
       "(8000, 11)"
      ]
     },
     "execution_count": 453,
     "metadata": {},
     "output_type": "execute_result"
    }
   ],
   "source": [
    "sensorData = np.hstack((sensorData, np.ones(len(sensorData)).reshape(len(sensorData),1)))\n",
    "sensorData.shape"
   ]
  },
  {
   "cell_type": "markdown",
   "id": "2b2491c4-bcb7-419c-90ab-951ff25662fe",
   "metadata": {},
   "source": [
    "We'll need to form a new matrix from the existing data.<br>\n",
    "We'll first construct the upper part of the Matrix"
   ]
  },
  {
   "cell_type": "code",
   "execution_count": 454,
   "id": "7bea7633-7f2f-43d3-948e-dd7251ca6c82",
   "metadata": {},
   "outputs": [
    {
     "data": {
      "text/plain": [
       "(3, 3)"
      ]
     },
     "execution_count": 454,
     "metadata": {},
     "output_type": "execute_result"
    }
   ],
   "source": [
    "zeros = np.zeros(len(constraintsMatrix)**2).reshape(len(constraintsMatrix), len(constraintsMatrix))\n",
    "zeros.shape"
   ]
  },
  {
   "cell_type": "code",
   "execution_count": 455,
   "id": "6f3784cd-b894-404c-8bb9-d194cd2afe31",
   "metadata": {},
   "outputs": [
    {
     "data": {
      "text/plain": [
       "(3, 14)"
      ]
     },
     "execution_count": 455,
     "metadata": {},
     "output_type": "execute_result"
    }
   ],
   "source": [
    "upperMatrix = np.hstack((constraintsMatrix, zeros))\n",
    "upperMatrix.shape"
   ]
  },
  {
   "cell_type": "markdown",
   "id": "f45df601-ce62-458f-a50f-8e326a58bbc9",
   "metadata": {},
   "source": [
    "Moving onto the lower Matrix"
   ]
  },
  {
   "cell_type": "code",
   "execution_count": 456,
   "id": "9be5b4b5-db5b-4599-b39c-d7402eb6bd2b",
   "metadata": {},
   "outputs": [
    {
     "data": {
      "text/plain": [
       "(11, 11)"
      ]
     },
     "execution_count": 456,
     "metadata": {},
     "output_type": "execute_result"
    }
   ],
   "source": [
    "lowerFirsthalf = sensorData.T @ sensorData\n",
    "lowerFirsthalf.shape"
   ]
  },
  {
   "cell_type": "code",
   "execution_count": 457,
   "id": "be502d43-733e-460c-9387-3e540d3cdbed",
   "metadata": {},
   "outputs": [
    {
     "data": {
      "text/plain": [
       "(11, 3)"
      ]
     },
     "execution_count": 457,
     "metadata": {},
     "output_type": "execute_result"
    }
   ],
   "source": [
    "lowerSecondHalf = -constraintsMatrix.T\n",
    "lowerSecondHalf.shape"
   ]
  },
  {
   "cell_type": "code",
   "execution_count": 458,
   "id": "6e2ed220-ab65-4f5d-be93-9ece9fe9bf67",
   "metadata": {},
   "outputs": [
    {
     "data": {
      "text/plain": [
       "(11, 14)"
      ]
     },
     "execution_count": 458,
     "metadata": {},
     "output_type": "execute_result"
    }
   ],
   "source": [
    "lowerMatrix = np.hstack((lowerFirsthalf, lowerSecondHalf))\n",
    "lowerMatrix.shape"
   ]
  },
  {
   "cell_type": "code",
   "execution_count": 459,
   "id": "8a96a000-935b-49b7-b098-b45dcf963a0f",
   "metadata": {},
   "outputs": [
    {
     "data": {
      "text/plain": [
       "(3, 14)"
      ]
     },
     "execution_count": 459,
     "metadata": {},
     "output_type": "execute_result"
    }
   ],
   "source": [
    "upperMatrix.shape"
   ]
  },
  {
   "cell_type": "code",
   "execution_count": 460,
   "id": "a4967707-d92c-4163-942a-7feaf7ae2492",
   "metadata": {},
   "outputs": [
    {
     "data": {
      "text/plain": [
       "(14, 14)"
      ]
     },
     "execution_count": 460,
     "metadata": {},
     "output_type": "execute_result"
    }
   ],
   "source": [
    "fullmatrix = np.vstack((upperMatrix, lowerMatrix))\n",
    "fullmatrix.shape"
   ]
  },
  {
   "cell_type": "markdown",
   "id": "0fa6b9a5-20fe-4910-a9c1-c995d086630e",
   "metadata": {},
   "source": [
    "Constructing the Output Vector now"
   ]
  },
  {
   "cell_type": "code",
   "execution_count": 461,
   "id": "68211531-49f3-4c92-8561-a7943f8d5c3e",
   "metadata": {},
   "outputs": [
    {
     "data": {
      "text/plain": [
       "(3, 1)"
      ]
     },
     "execution_count": 461,
     "metadata": {},
     "output_type": "execute_result"
    }
   ],
   "source": [
    "constraintsResult = np.expand_dims(constraintsResult, axis=1)\n",
    "constraintsResult.shape"
   ]
  },
  {
   "cell_type": "code",
   "execution_count": 462,
   "id": "b5f69d2f-2bd9-4ca6-a0ef-5a8e34043d6c",
   "metadata": {},
   "outputs": [],
   "source": [
    "upperVector = constraintsResult\n",
    "upperVector = np.hstack((upperVector,constraintsResult))\n",
    "upperVector = np.hstack((upperVector,constraintsResult))\n",
    "lowerVector = sensorData.T @ positionData"
   ]
  },
  {
   "cell_type": "code",
   "execution_count": 463,
   "id": "3a6b86eb-92c9-4ae3-b0c8-ec05d36d4794",
   "metadata": {},
   "outputs": [
    {
     "data": {
      "text/plain": [
       "array([[-9.57721460e+01, -9.57721460e+01, -9.57721460e+01],\n",
       "       [ 1.39485220e+01,  1.39485220e+01,  1.39485220e+01],\n",
       "       [ 1.28400869e+02,  1.28400869e+02,  1.28400869e+02],\n",
       "       [ 5.57640377e+04,  8.12910367e+04,  4.87935882e+04],\n",
       "       [-4.17636021e+04,  1.04770667e+04,  6.31491278e+04],\n",
       "       [ 7.68699640e+04,  1.43370258e+04, -6.25685275e+04],\n",
       "       [ 3.93116763e+04, -5.13587250e+04, -7.44448764e+03],\n",
       "       [-4.14269092e+04, -3.89640448e+04,  5.06201678e+04],\n",
       "       [-2.04803133e+04,  6.24968194e+04,  6.65572716e+04],\n",
       "       [-7.25896956e+04,  4.15647333e+04, -7.33172274e+04],\n",
       "       [-5.10284928e+04, -3.42760267e+04,  4.65666866e+04],\n",
       "       [-6.98684112e+04,  2.27795474e+04,  5.00657886e+04],\n",
       "       [-2.54665361e+04, -4.62441649e+04,  6.61656923e+04],\n",
       "       [-2.01067852e+04,  2.62123448e+04,  8.00865140e+04]])"
      ]
     },
     "execution_count": 463,
     "metadata": {},
     "output_type": "execute_result"
    }
   ],
   "source": [
    "OutputVector = np.vstack((upperVector, lowerVector))\n",
    "OutputVector"
   ]
  },
  {
   "cell_type": "code",
   "execution_count": 464,
   "id": "426c8c0c-7314-426b-a79d-2513143beac0",
   "metadata": {},
   "outputs": [
    {
     "data": {
      "text/plain": [
       "(14, 14)"
      ]
     },
     "execution_count": 464,
     "metadata": {},
     "output_type": "execute_result"
    }
   ],
   "source": [
    "fullmatrix.shape"
   ]
  },
  {
   "cell_type": "code",
   "execution_count": 465,
   "id": "f7b15ac3-a74c-4648-8770-91c695e83480",
   "metadata": {},
   "outputs": [],
   "source": [
    "# weights = np.linalg.inv(fullmatrix) @ OutputVector\n",
    "weights, residuals, rank, s = np.linalg.lstsq(fullmatrix, OutputVector, rcond=None)\n",
    "# np.linalg.inv(fullmatrix) @ OutputVector"
   ]
  },
  {
   "cell_type": "code",
   "execution_count": 466,
   "id": "cd5baf31-ad45-4c0e-a158-d907548b23cc",
   "metadata": {},
   "outputs": [
    {
     "name": "stdout",
     "output_type": "stream",
     "text": [
      "[[ 1.35540061e+01  6.15933684e+00  3.85372168e+00]\n",
      " [-3.13505890e+00 -3.81023557e-01  5.81344316e+00]\n",
      " [ 4.32499984e+00 -7.88004272e-02 -8.75750363e+00]\n",
      " [-6.37787449e+00 -6.51734024e+00 -5.47229347e-02]\n",
      " [ 4.24904250e+00  7.10921450e+00  9.71852928e+00]\n",
      " [-2.90307165e+00 -2.27240768e+00  5.16247722e+00]\n",
      " [-3.25854990e+00  1.47823700e+00 -1.09024180e+01]\n",
      " [-1.35315634e+00  5.93359384e-02  5.80620524e+00]\n",
      " [-9.97462714e+00 -3.54171354e+00  4.11743592e+00]\n",
      " [ 2.22549044e+00 -4.51493851e+00  8.34293441e+00]\n",
      " [-2.58102608e+00  3.11839561e+00  9.62466776e+00]\n",
      " [-5.00719280e+03 -6.19775403e+03 -2.07745180e+03]\n",
      " [-1.92441058e+03  6.02554380e+03  1.99778655e+03]\n",
      " [ 7.16728871e+03  8.50605825e+02 -1.11457830e+03]]\n"
     ]
    },
    {
     "data": {
      "text/plain": [
       "(14, 3)"
      ]
     },
     "execution_count": 466,
     "metadata": {},
     "output_type": "execute_result"
    }
   ],
   "source": [
    "weights = np.array(weights)\n",
    "print(weights)\n",
    "weights.shape"
   ]
  },
  {
   "cell_type": "code",
   "execution_count": 467,
   "id": "3243beb6-9275-41e7-9142-2c96015c4405",
   "metadata": {},
   "outputs": [
    {
     "name": "stdout",
     "output_type": "stream",
     "text": [
      "(14, 3)\n",
      "(11, 3)\n",
      "[[ 13.55400614   6.15933684   3.85372168]\n",
      " [ -3.1350589   -0.38102356   5.81344316]\n",
      " [  4.32499984  -0.07880043  -8.75750363]\n",
      " [ -6.37787449  -6.51734024  -0.05472293]\n",
      " [  4.2490425    7.1092145    9.71852928]\n",
      " [ -2.90307165  -2.27240768   5.16247722]\n",
      " [ -3.2585499    1.478237   -10.90241795]\n",
      " [ -1.35315634   0.05933594   5.80620524]\n",
      " [ -9.97462714  -3.54171354   4.11743592]\n",
      " [  2.22549044  -4.51493851   8.34293441]\n",
      " [ -2.58102608   3.11839561   9.62466776]]\n"
     ]
    }
   ],
   "source": [
    "print(weights.shape)\n",
    "actualWeights = weights[0:11]\n",
    "\n",
    "print(actualWeights.shape)\n",
    "print(actualWeights)"
   ]
  },
  {
   "cell_type": "markdown",
   "id": "a9153ca6-5163-40af-84bb-acfbb6e1da45",
   "metadata": {},
   "source": [
    "##### Testing on the data"
   ]
  },
  {
   "cell_type": "code",
   "execution_count": 468,
   "id": "43c571ac-3e80-4be0-be0b-c21403465b49",
   "metadata": {},
   "outputs": [
    {
     "name": "stdout",
     "output_type": "stream",
     "text": [
      "SensorData shape : (2000, 11) and positionData shape: (2000, 3)\n"
     ]
    }
   ],
   "source": [
    "sensorDataTest = testSplit[:, 0:10]\n",
    "sensorDataTest = np.c_[sensorDataTest, np.ones(len(sensorDataTest)).reshape(len(sensorDataTest),1)]\n",
    "\n",
    "positionDataTest = testSplit[:, 10:13]\n",
    "print(\"SensorData shape : {} and positionData shape: {}\".format(sensorDataTest.shape, positionDataTest.shape))"
   ]
  },
  {
   "cell_type": "code",
   "execution_count": 469,
   "id": "58f7f00c-9976-439a-80a9-7ee54b97bd87",
   "metadata": {},
   "outputs": [
    {
     "name": "stdout",
     "output_type": "stream",
     "text": [
      " Pearsons correlatoin coefficient 1st co-ordinate is 0.5372, 2nd co-ordinate is 0.28459, 3rd co-ordinate is 0.95982 \n",
      "\n",
      " Mean Square Error of 1st co-ordinate is 6.1, 2nd co-ordinate is 45.88, 3rd co-ordinate is 42.97 \n",
      "\n",
      " Mean absolute Error of 1st co-ordinate is 2.19, 2nd co-ordinate is 5.26, 3rd co-ordinate is 4.24 \n",
      "\n"
     ]
    },
    {
     "data": {
      "text/plain": [
       "[array([0.53720229, 0.28459215, 0.95982243]),\n",
       " array([ 6.1 , 45.88, 42.97]),\n",
       " array([2.19, 5.26, 4.24])]"
      ]
     },
     "execution_count": 469,
     "metadata": {},
     "output_type": "execute_result"
    }
   ],
   "source": [
    "predictedDataTest = sensorDataTest @ actualWeights\n",
    "measureMetrics(predictedDataTest, positionDataTest)"
   ]
  },
  {
   "cell_type": "markdown",
   "id": "2f3655de-599b-4b3a-b890-1f522457e861",
   "metadata": {},
   "source": [
    "##### Graphs"
   ]
  },
  {
   "cell_type": "code",
   "execution_count": 470,
   "id": "c584fb2b-ceab-45ae-9e96-935ab0214a02",
   "metadata": {},
   "outputs": [
    {
     "data": {
      "image/png": "[encoded data removed]",
      "text/plain": [
       "<Figure size 1500x300 with 3 Axes>"
      ]
     },
     "metadata": {},
     "output_type": "display_data"
    }
   ],
   "source": [
    "  # Plotting\n",
    "# TODO: Make this a function \n",
    "fig, axs = plt.subplots(1, 3, figsize=(15, 3))\n",
    "for i in range(3): \n",
    "    y = predictedDataTest[:,i]\n",
    "    x = positionDataTest[:,i]\n",
    "    # axs[i].set_figure(figsize=(3, 3))\n",
    "    axs[i].scatter(x, y, color=\"b\", label=\"Data points\")\n",
    "    axs[i].set_title(\"Linear Regression for Y{}\".format(i))\n",
    "    axs[i].set_xlabel(\"Actual Y\")\n",
    "    axs[i].set_ylabel(\"Predicted Y\")\n",
    "    \n",
    "    \n",
    "    \n",
    "    # Optional: Line of best fit\n",
    "    m, b = np.polyfit(x, y, 1)\n",
    "    axs[i].plot(x, m * x + b, color=\"red\", label=\"Correlation line\")\n",
    "    axs[i].legend()\n",
    "    \n",
    "plt.subplots_adjust(wspace=0.7)\n",
    "plt.show()"
   ]
  },
  {
   "cell_type": "markdown",
   "id": "794f811e-20eb-47bc-aff4-46d0dcff7072",
   "metadata": {},
   "source": [
    "# 2. Principle Component Analysis"
   ]
  },
  {
   "cell_type": "markdown",
   "id": "23c2efb9-f823-41b3-8a45-a73ee8fd8518",
   "metadata": {},
   "source": [
    "## 2.1 PCA Implementation\n",
    "With PCA, what we'd like to do is to reduce the dimentionality of the data via reducing the basis vector. We do this for the following reasons:\n",
    "* $\\textbf{Dimentionality reduction}$: By selecting only the top 𝑝 p components, we can project the data into a lower-dimensional space that retains the most critical information. Reducing dimensions helps to simplify models, decrease computational load, and potentially improve performance\n",
    "*  $\\textbf{Maximizing Explained Variance}$: The eigenvalues of the covariance matrix represent the amount of variance captured by each principal component. The largest eigenvalues correspond to directions (principal components) in which the data has the highest variability.Selecting the top p eigenvalues (and their eigenvectors) helps to maximize the variance retained in the reduced representation of the data. This ensures that the reduced dimensions capture as much of the dataset's original structure as possible.\n",
    "* $\\textbf{Noise Reduction}$: The components associated with smaller eigenvalues often capture less meaningful variance, sometimes attributed to noise in the data. By ignoring these smaller eigenvalues, we can reduce the impact of noise and focus on the data's underlying patterns.\n",
    "* $\\textbf{Simplifying Interpretation}$: Fewer dimensions make it easier to interpret and visualize the data, especially in exploratory data analysis. For example, using only the top two or three components enables plotting high-dimensional data in 2D or 3D space, providing a visual overview of the data's structure and relationships.\n",
    "### Importing the data\n",
    "To import the $\\textbf{IDX3\\_UBYTE}$ data from the files, we'll define the following functions to read the input datatype and convert it into the operatable numpy matrixes"
   ]
  },
  {
   "cell_type": "code",
   "execution_count": 471,
   "id": "3dd2cdd7-e13f-4da2-818a-1d1ee3943175",
   "metadata": {},
   "outputs": [],
   "source": [
    "import numpy as np\n",
    "\n",
    "def read_idx3_ubyte_images(file_path):\n",
    "    with open(file_path, 'rb') as f:\n",
    "        # Read the magic number (first 4 bytes)\n",
    "        magic_number = int.from_bytes(f.read(4), byteorder='big')\n",
    "        \n",
    "        # Read the number of images (next 4 bytes)\n",
    "        num_images = int.from_bytes(f.read(4), byteorder='big')\n",
    "        \n",
    "        # Read the number of rows (next 4 bytes)\n",
    "        num_rows = int.from_bytes(f.read(4), byteorder='big')\n",
    "        \n",
    "        # Read the number of columns (next 4 bytes)\n",
    "        num_cols = int.from_bytes(f.read(4), byteorder='big')\n",
    "        \n",
    "        # Read the image data and reshape it to (num_images, num_rows, num_cols)\n",
    "        image_data = np.frombuffer(f.read(), dtype=np.uint8).reshape((num_images, num_rows * num_cols))   \n",
    "    return image_data\n",
    "\n",
    "def read_idx1_ubyte_labels(file_path):\n",
    "    with open(file_path, 'rb') as f:\n",
    "        # Read the magic number (first 4 bytes)\n",
    "        magic_number = int.from_bytes(f.read(4), byteorder='big')\n",
    "        \n",
    "        # Read the number of labels (next 4 bytes)\n",
    "        num_labels = int.from_bytes(f.read(4), byteorder='big')\n",
    "        \n",
    "        # Read the label data as a 1D array of unsigned bytes\n",
    "        labels = np.frombuffer(f.read(), dtype=np.uint8)\n",
    "        \n",
    "    return labels\n"
   ]
  },
  {
   "cell_type": "markdown",
   "id": "9925f1d9-56cb-4410-88c9-19618c693c4b",
   "metadata": {},
   "source": [
    "#### a. Standardize Data\n",
    "We'll like to center the data by substracting the mean before operating on them, hence we define the following to do the same"
   ]
  },
  {
   "cell_type": "code",
   "execution_count": 472,
   "id": "ee8f4383-3e42-4744-beca-0aa0129eeb11",
   "metadata": {},
   "outputs": [],
   "source": [
    "def standardize_images(images) :\n",
    "    mean = np.mean(images, axis = 0)\n",
    "    standardizedImage = images - mean\n",
    "    return standardizedImage,mean"
   ]
  },
  {
   "cell_type": "markdown",
   "id": "6f9b41d6-4860-4e74-8ded-2b49bbb95df6",
   "metadata": {},
   "source": [
    "##### b. Compute the PCA Eigen Values\n",
    "Now, we'd like to calculate the get the top eigen-values and the corresponding eigen-vectors to form the new basis. The top p eigenvalues and eigenvectors help us reduce dimensionality, retain essential information (variance), reduce noise, and simplify interpretation. This is why we prioritize the top components in PCA rather than using all dimensions, which might introduce unnecessary complexity and noise."
   ]
  },
  {
   "cell_type": "code",
   "execution_count": 473,
   "id": "f2b22295-b44c-443d-a0a4-254061bbbc24",
   "metadata": {},
   "outputs": [],
   "source": [
    "def compute_pca_eigen(X):\n",
    "    #Calculate the covariance matrix\n",
    "    covariance_matrix = np.cov(X, rowvar=False)\n",
    "    \n",
    "    #Eigen decomposition of the covariance matrix\n",
    "    eigenvalues, eigenvectors = np.linalg.eigh(covariance_matrix)\n",
    "    \n",
    "    #Sort eigenvalues and eigenvectors in descending order\n",
    "    sorted_indices = np.argsort(eigenvalues)[::-1]\n",
    "    sorted_eigenvalues = eigenvalues[sorted_indices]\n",
    "    sorted_eigenvectors = eigenvectors[:, sorted_indices]\n",
    "\n",
    "    \n",
    "    # Select the top n_components\n",
    "    explained_variance_ratio = sorted_eigenvalues / np.sum(eigenvalues)\n",
    "    cumulative_variance = np.cumsum(explained_variance_ratio)\n",
    "    n_components = np.argmax(cumulative_variance >= 0.95) + 1\n",
    "    principal_components = sorted_eigenvectors[:, :n_components]\n",
    "    print(principal_components.shape)\n",
    "    \n",
    "    return principal_components"
   ]
  },
  {
   "cell_type": "markdown",
   "id": "649429e7-93a5-4779-b325-84d643307260",
   "metadata": {},
   "source": [
    "#### c. Reconstruct the images"
   ]
  },
  {
   "cell_type": "code",
   "execution_count": 474,
   "id": "976487ba-01a0-497f-8f67-dddfa9289609",
   "metadata": {},
   "outputs": [],
   "source": [
    "def reconstruct_images(X, components, mean):\n",
    "    projected_data = np.dot(X, components)  # X * components\n",
    "    reconstructed_images = np.dot(projected_data, components.T) + mean\n",
    "    \n",
    "    return reconstructed_images"
   ]
  },
  {
   "cell_type": "code",
   "execution_count": 475,
   "id": "27d3b2ed-3653-40b0-8896-a27566f923b0",
   "metadata": {},
   "outputs": [],
   "source": [
    "def processImage(images):\n",
    "    standardizedImages, mean = standardize_images(images)\n",
    "    principal_components = compute_pca_eigen(images)\n",
    "    reconstrucedimages = reconstruct_images(standardizedImages, principal_components, mean)\n",
    "    return reconstrucedimages, principal_components"
   ]
  },
  {
   "cell_type": "markdown",
   "id": "de027a9f-c176-409b-8b92-6136c8680813",
   "metadata": {},
   "source": [
    "#### d. Reconstructing the Images"
   ]
  },
  {
   "cell_type": "markdown",
   "id": "631ae176-8a49-494d-a022-75791838d544",
   "metadata": {},
   "source": [
    "##### Firstly, We'd have train the data from MNIST."
   ]
  },
  {
   "cell_type": "code",
   "execution_count": 476,
   "id": "e550a2ae-d080-4bf0-a0a0-8a033efc9ce3",
   "metadata": {},
   "outputs": [],
   "source": [
    "trainMNSIT = np.loadtxt(\"DATA PA/MNIST_CSV/mnist_train.csv\", delimiter=\",\")\n",
    "testMNSIT = np.loadtxt(\"DATA PA/MNIST_CSV/mnist_test.csv\", delimiter=\",\")"
   ]
  },
  {
   "cell_type": "code",
   "execution_count": 477,
   "id": "3289d2b1-b0b5-46f4-b972-44ecda90e82b",
   "metadata": {
    "scrolled": true
   },
   "outputs": [
    {
     "data": {
      "text/plain": [
       "<matplotlib.image.AxesImage at 0x22695ba1590>"
      ]
     },
     "execution_count": 477,
     "metadata": {},
     "output_type": "execute_result"
    },
    {
     "data": {
      "image/png": "[encoded data removed]",
      "text/plain": [
       "<Figure size 640x480 with 1 Axes>"
      ]
     },
     "metadata": {},
     "output_type": "display_data"
    }
   ],
   "source": [
    "trainImagesMNIST = trainMNSIT[:,1:]\n",
    "trainLabelsMNIST = trainMNSIT[:,0]\n",
    "\n",
    "testImagesMNIST = testMNSIT[:,1:]\n",
    "testLabelsMNIST = testMNSIT[:,0]\n",
    "\n",
    "plt.imshow(trainImagesMNIST[0].reshape(28, 28))"
   ]
  },
  {
   "cell_type": "code",
   "execution_count": 478,
   "id": "ca950c49-41f4-4495-99f9-6349926376fb",
   "metadata": {
    "scrolled": true
   },
   "outputs": [
    {
     "name": "stdout",
     "output_type": "stream",
     "text": [
      "(784, 154)\n"
     ]
    }
   ],
   "source": [
    "reconstrucedimagesMNIST, principal_componentsMNSIT = processImage(trainImagesMNIST)"
   ]
  },
  {
   "cell_type": "code",
   "execution_count": 479,
   "id": "8f8c6f7d-dc17-46b1-9ba2-e12ef3fe7fd2",
   "metadata": {},
   "outputs": [
    {
     "data": {
      "text/plain": [
       "(60000, 784)"
      ]
     },
     "execution_count": 479,
     "metadata": {},
     "output_type": "execute_result"
    }
   ],
   "source": [
    "reconstrucedimagesMNIST.shape"
   ]
  },
  {
   "cell_type": "code",
   "execution_count": 480,
   "id": "579989d0-adaf-4786-b313-a7123c9ea8cb",
   "metadata": {},
   "outputs": [
    {
     "data": {
      "text/plain": [
       "<matplotlib.image.AxesImage at 0x2261de43610>"
      ]
     },
     "execution_count": 480,
     "metadata": {},
     "output_type": "execute_result"
    },
    {
     "data": {
      "image/png": "[encoded data removed]",
      "text/plain": [
       "<Figure size 640x480 with 1 Axes>"
      ]
     },
     "metadata": {},
     "output_type": "display_data"
    }
   ],
   "source": [
    "plt.imshow(trainImagesMNIST[0].reshape(28, 28))"
   ]
  },
  {
   "cell_type": "code",
   "execution_count": 481,
   "id": "7494e8fd-65b5-41bd-a752-65349aa64fb5",
   "metadata": {
    "scrolled": true
   },
   "outputs": [
    {
     "data": {
      "text/plain": [
       "<matplotlib.image.AxesImage at 0x225b291af10>"
      ]
     },
     "execution_count": 481,
     "metadata": {},
     "output_type": "execute_result"
    },
    {
     "data": {
      "image/png": "[encoded data removed]",
      "text/plain": [
       "<Figure size 640x480 with 1 Axes>"
      ]
     },
     "metadata": {},
     "output_type": "display_data"
    }
   ],
   "source": [
    "plt.imshow(reconstrucedimagesMNIST[0].reshape(28, 28))"
   ]
  },
  {
   "cell_type": "markdown",
   "id": "8d5b5cd1-2dd2-4074-ac06-b66e271e4548",
   "metadata": {},
   "source": [
    "##### Now, we'll train the CIFAR-10 dataset"
   ]
  },
  {
   "cell_type": "code",
   "execution_count": 482,
   "id": "654204d3-8ceb-4c93-a6f2-780c9a74abea",
   "metadata": {},
   "outputs": [
    {
     "name": "stdout",
     "output_type": "stream",
     "text": [
      "Training data shape: (50000, 32, 32, 3), Training labels shape: (50000,)\n",
      "Test data shape: (10000, 32, 32, 3), Test labels shape: (10000,)\n"
     ]
    }
   ],
   "source": [
    "import numpy as np\n",
    "import pickle\n",
    "import os\n",
    "\n",
    "def load_cifar10_batch(filename):\n",
    "    \"\"\"Load a single batch of CIFAR-10.\"\"\"\n",
    "    with open(filename, 'rb') as f:\n",
    "        batch = pickle.load(f, encoding='bytes')\n",
    "        images = batch[b'data']  \n",
    "        labels = batch[b'labels'] \n",
    "        images = images.reshape(-1, 3, 32, 32).transpose(0, 2, 3, 1)\n",
    "        return images, np.array(labels)\n",
    "\n",
    "def load_cifar10(data_dir):\n",
    "    \"\"\"Load all CIFAR-10 batches.\"\"\"\n",
    "    images_list, labels_list = [], []\n",
    "    for i in range(1, 6):  # Loop over the 5 data batches\n",
    "        batch_file = os.path.join(data_dir, f\"data_batch_{i}\")\n",
    "        images, labels = load_cifar10_batch(batch_file)\n",
    "        images_list.append(images)\n",
    "        labels_list.append(labels)\n",
    "    \n",
    "    # Combine all batches\n",
    "    X_train = np.concatenate(images_list, axis=0)\n",
    "    y_train = np.concatenate(labels_list, axis=0)\n",
    "    \n",
    "    # Load the test batch\n",
    "    test_file = os.path.join(data_dir, \"test_batch\")\n",
    "    X_test, y_test = load_cifar10_batch(test_file)\n",
    "    \n",
    "    return X_train, y_train, X_test, y_test\n",
    "\n",
    "# Path to the extracted CIFAR-10 directory\n",
    "data_dir = \"DATA PA\\cifar-10-batches-py\"\n",
    "trainImagesCIFAR, trainLabelsCIFAR, testImagesCIFAR, testLabelsCIFAR = load_cifar10(data_dir)\n",
    "\n",
    "print(f\"Training data shape: {trainImagesCIFAR.shape}, Training labels shape: {trainLabelsCIFAR.shape}\")\n",
    "print(f\"Test data shape: {testImagesCIFAR.shape}, Test labels shape: {testLabelsCIFAR.shape}\")\n"
   ]
  },
  {
   "cell_type": "code",
   "execution_count": 483,
   "id": "80142f12-3f81-44a7-82a6-190aee6540f6",
   "metadata": {
    "scrolled": true
   },
   "outputs": [
    {
     "data": {
      "text/plain": [
       "<matplotlib.image.AxesImage at 0x225b31c1090>"
      ]
     },
     "execution_count": 483,
     "metadata": {},
     "output_type": "execute_result"
    },
    {
     "data": {
      "image/png": "[encoded data removed]",
      "text/plain": [
       "<Figure size 640x480 with 1 Axes>"
      ]
     },
     "metadata": {},
     "output_type": "display_data"
    }
   ],
   "source": [
    "plt.imshow(trainImagesCIFAR[0])"
   ]
  },
  {
   "cell_type": "code",
   "execution_count": 484,
   "id": "4f8e7071-8600-46e1-a47f-eb72a159bab6",
   "metadata": {},
   "outputs": [],
   "source": [
    "trainImagesCIFAR = trainImagesCIFAR.reshape(len(trainImagesCIFAR), 32*32*3)\n",
    "testImagesCIFAR = testImagesCIFAR.reshape(len(testImagesCIFAR), 32*32*3)"
   ]
  },
  {
   "cell_type": "code",
   "execution_count": 485,
   "id": "b4d19ce9-00bc-4446-86ec-58936127100e",
   "metadata": {},
   "outputs": [
    {
     "data": {
      "text/plain": [
       "(50000, 3072)"
      ]
     },
     "execution_count": 485,
     "metadata": {},
     "output_type": "execute_result"
    }
   ],
   "source": [
    "trainImagesCIFAR.shape"
   ]
  },
  {
   "cell_type": "code",
   "execution_count": 486,
   "id": "91931e7c-d319-483b-a8e2-465fcdbd879c",
   "metadata": {
    "scrolled": true
   },
   "outputs": [],
   "source": [
    "# reconstrucedimagesCIFAR = processImage(trainImagesCIFAR)"
   ]
  },
  {
   "cell_type": "markdown",
   "id": "9dfb2297-88d8-44d3-b9e7-96e3f197ec81",
   "metadata": {},
   "source": [
    "# 3.Stationary distribution of a Markov Chain\n",
    "#### Importing the transition matrix"
   ]
  },
  {
   "cell_type": "code",
   "execution_count": 488,
   "id": "d15e368f-0ac1-47a2-906b-722b76e129f2",
   "metadata": {},
   "outputs": [],
   "source": [
    "transitionMatrix = np.loadtxt(\"DATA PA/transition_matrices/P_021.txt\")\n",
    "transitionMatrixT = transitionMatrix.T"
   ]
  },
  {
   "cell_type": "markdown",
   "id": "313a7b85-1de7-4ba3-968f-4567d3f8c2bb",
   "metadata": {},
   "source": [
    "#### Solve directly using the system of linear equations\n",
    "We're given the matrix A, we'd like to solve for $\\pi$ in the following equations:\n",
    "$$\\pi^T\\textbf{A} = \\pi^T -(1)$$\n",
    "$$\\pi^T\\textbf{I} = I - (2)$$\n",
    "Consider equation $(1)$, we take transpose on both the sides $$(\\pi^T\\textbf{A})^T = (\\pi^T)^T \\implies A^T\\pi = \\pi \\implies (A^T - I)\\pi = 0$$ Taking the transpose on eq$(2)$, we've $$I^T \\pi = I$$We'll model it as a a system of linear equation as:\n",
    "\n",
    "\\begin{gather}\n",
    " \\begin{bmatrix} P^T -I \\\\ I^T \\end{bmatrix}\n",
    " \\begin{bmatrix} \\pi  \\end{bmatrix}\n",
    " =\n",
    "  \\begin{bmatrix} 0 \\\\ I \\end{bmatrix}\n",
    "\\end{gather}\n",
    "\n",
    "Solving this linear equation, we can get the value of $\\pi$,"
   ]
  },
  {
   "cell_type": "markdown",
   "id": "dfb53f24-d054-4ae9-a426-8e9925929a04",
   "metadata": {},
   "source": [
    "#### Solving the linear equation for the value of $\\pi$"
   ]
  },
  {
   "cell_type": "markdown",
   "id": "b0ae1178-2021-4793-b7ed-f7782868fd29",
   "metadata": {},
   "source": [
    "##### Creating the Matrix for the linear equation"
   ]
  },
  {
   "cell_type": "code",
   "execution_count": 489,
   "id": "e1016478-bb02-4e36-a52b-da57546bdb31",
   "metadata": {},
   "outputs": [],
   "source": [
    "I_m = np.eye(len(transitionMatrix))\n",
    "O = np.zeros(len(transitionMatrix)).reshape(len(transitionMatrix),1)\n",
    "upperHalf = transitionMatrix.T - I_m\n",
    "I_v = np.ones(len(transitionMatrix)).reshape(len(transitionMatrix),1)\n",
    "lowerhalf = I_v.T"
   ]
  },
  {
   "cell_type": "code",
   "execution_count": 490,
   "id": "ea03884d-1455-4cfb-8510-637176a8e9df",
   "metadata": {},
   "outputs": [],
   "source": [
    "fullVector = np.vstack((upperHalf, lowerhalf))"
   ]
  },
  {
   "cell_type": "code",
   "execution_count": 491,
   "id": "578f68f6-6ff1-4cd3-89ef-95922502cb30",
   "metadata": {},
   "outputs": [
    {
     "data": {
      "text/plain": [
       "(101, 100)"
      ]
     },
     "execution_count": 491,
     "metadata": {},
     "output_type": "execute_result"
    }
   ],
   "source": [
    "fullVector.shape"
   ]
  },
  {
   "cell_type": "code",
   "execution_count": 492,
   "id": "81cb2bdd-e0a1-46e7-8208-4d2afd629a2e",
   "metadata": {},
   "outputs": [
    {
     "data": {
      "text/plain": [
       "(101, 1)"
      ]
     },
     "execution_count": 492,
     "metadata": {},
     "output_type": "execute_result"
    }
   ],
   "source": [
    "outputVector = np.vstack((O,np.ones(1).reshape(1,1)))\n",
    "outputVector.shape"
   ]
  },
  {
   "cell_type": "code",
   "execution_count": 493,
   "id": "092145d6-f0d2-41c0-a323-ba1012be9adf",
   "metadata": {},
   "outputs": [],
   "source": [
    "import time\n",
    "prev_time =  time.time()\n",
    "pieLE, x, y,z = np.linalg.lstsq(fullVector, outputVector)\n",
    "curr_time = time.time()\n"
   ]
  },
  {
   "cell_type": "code",
   "execution_count": 494,
   "id": "94aa7fb1-5eff-4544-aa37-b4d4653f7777",
   "metadata": {},
   "outputs": [],
   "source": [
    "timeDiffLE = curr_time - prev_time "
   ]
  },
  {
   "cell_type": "markdown",
   "id": "d124a870-5f88-4b96-b4da-a55b1160fa95",
   "metadata": {},
   "source": [
    "#### Solve using the power method"
   ]
  },
  {
   "cell_type": "code",
   "execution_count": 495,
   "id": "7e72d791-a1ef-4099-802b-50524bdedcac",
   "metadata": {},
   "outputs": [],
   "source": [
    "def powerMethod(A, pie, tol = 1e-6, max_iter = 10000): \n",
    "    \n",
    "    for i in range(max_iter): \n",
    "        pie_pred = A.T @ pie     \n",
    "        if np.max(np.abs(pie - pie_pred)) < tol: \n",
    "            return pie_pred, i + 1\n",
    "        pie = pie_pred  "
   ]
  },
  {
   "cell_type": "code",
   "execution_count": 496,
   "id": "d2fa7d7a-7243-4591-a82b-9a8aa53bc45f",
   "metadata": {},
   "outputs": [],
   "source": [
    "pie_initial = np.random.dirichlet(np.ones(100),size=1).T\n",
    "prev_time =  time.time()\n",
    "piePM = powerMethod(transitionMatrix, pie_initial)\n",
    "curr_time = time.time()\n",
    "timeDiffPM =  curr_time - prev_time "
   ]
  },
  {
   "cell_type": "markdown",
   "id": "67cfb680-900f-4e8e-bcc8-d8cd37cdf4f1",
   "metadata": {},
   "source": [
    "#### Verifying the data from both methods\n",
    "##### Verifying for the solution from directly solving the system of linear equations\n",
    "$\\textbf{a.} ||\\pi^T A - \\pi^T||_1 = 0$ "
   ]
  },
  {
   "cell_type": "code",
   "execution_count": 497,
   "id": "a9478f38-f1b6-4055-a49e-661e7bbe8c36",
   "metadata": {},
   "outputs": [
    {
     "name": "stdout",
     "output_type": "stream",
     "text": [
      "2.8985536025724916e-11\n"
     ]
    }
   ],
   "source": [
    "print(np.linalg.norm((pieLE.T @ transitionMatrix - pieLE.T).squeeze()))"
   ]
  },
  {
   "cell_type": "markdown",
   "id": "bad6d41f-77b5-4995-87c4-f18e9b02c34f",
   "metadata": {},
   "source": [
    "$\\textbf{b.} \\sum_{i = 1}^n\\pi_i = 1  $"
   ]
  },
  {
   "cell_type": "code",
   "execution_count": 498,
   "id": "bc57ec7f-d0fb-4cb3-9c37-86803a3d1d64",
   "metadata": {},
   "outputs": [
    {
     "name": "stdout",
     "output_type": "stream",
     "text": [
      "1.000000000000001\n"
     ]
    }
   ],
   "source": [
    "print(pieLE.sum())"
   ]
  },
  {
   "cell_type": "markdown",
   "id": "0172572e-8408-460a-b9b7-39cc7b2bfcc9",
   "metadata": {},
   "source": [
    "##### Verifying for the solution from power method\n",
    "$\\textbf{a.} ||\\pi^T A - \\pi^T||_1 = 0$ "
   ]
  },
  {
   "cell_type": "code",
   "execution_count": 499,
   "id": "249b8495-2c30-424a-bc3f-b53f51d0f046",
   "metadata": {},
   "outputs": [
    {
     "name": "stdout",
     "output_type": "stream",
     "text": [
      "4.160654680508706e-08\n"
     ]
    }
   ],
   "source": [
    "print(np.linalg.norm((piePM[0].T @ transitionMatrix - piePM[0].T).squeeze()))"
   ]
  },
  {
   "cell_type": "markdown",
   "id": "d19952db-77c6-42b8-81a4-b80b8f6073e0",
   "metadata": {},
   "source": [
    "$\\textbf{b.} \\sum_{i = 1}^n\\pi_i = 1  $"
   ]
  },
  {
   "cell_type": "code",
   "execution_count": 500,
   "id": "de6b2551-e293-43b7-9004-f9101b2bc0f8",
   "metadata": {},
   "outputs": [
    {
     "name": "stdout",
     "output_type": "stream",
     "text": [
      "1.0000000016781057\n"
     ]
    }
   ],
   "source": [
    "print(piePM[0].sum())"
   ]
  },
  {
   "cell_type": "markdown",
   "id": "fd9c4faf-e2d0-46e1-a48a-05fbc506591a",
   "metadata": {},
   "source": [
    "$\\textbf{c. Number of iterations for convergance}$"
   ]
  },
  {
   "cell_type": "code",
   "execution_count": 501,
   "id": "736de7d0-f08e-473f-86bf-ebdedd8ae665",
   "metadata": {},
   "outputs": [
    {
     "data": {
      "text/plain": [
       "5"
      ]
     },
     "execution_count": 501,
     "metadata": {},
     "output_type": "execute_result"
    }
   ],
   "source": [
    "piePM[1]"
   ]
  },
  {
   "cell_type": "markdown",
   "id": "c1c9aede-75ac-484a-bef0-cc6ade592c11",
   "metadata": {},
   "source": [
    "$\\textbf{d. Compare execution times for both methods.}$<br>\n",
    "$\\textbf{Linear Equation Time Difference}$"
   ]
  },
  {
   "cell_type": "code",
   "execution_count": 502,
   "id": "21b529aa-b686-45a0-bf8b-b5831725b238",
   "metadata": {},
   "outputs": [
    {
     "data": {
      "text/plain": [
       "0.27771830558776855"
      ]
     },
     "execution_count": 502,
     "metadata": {},
     "output_type": "execute_result"
    }
   ],
   "source": [
    "timeDiffLE"
   ]
  },
  {
   "cell_type": "markdown",
   "id": "195d812c-c98d-4177-af0c-f7ed9e07b16f",
   "metadata": {},
   "source": [
    "$\\textbf{Power Method Time Difference}$"
   ]
  },
  {
   "cell_type": "code",
   "execution_count": 503,
   "id": "dd5d91c4-4693-42f4-9f4d-866dfdea16f1",
   "metadata": {},
   "outputs": [
    {
     "data": {
      "text/plain": [
       "0.001007080078125"
      ]
     },
     "execution_count": 503,
     "metadata": {},
     "output_type": "execute_result"
    }
   ],
   "source": [
    "timeDiffPM"
   ]
  },
  {
   "cell_type": "markdown",
   "id": "73716248-3fde-44a8-8e19-05e0ba1f1b6a",
   "metadata": {},
   "source": [
    "##### Analyze and compare:\n",
    "###### Accuracy of approaches\n",
    "The linear system of equation approach yeilds a norm of difference as  $2.89 \\times 10^{-11}$ whereas the power method yeilds an  norm of difference as  $6.47 \\times 10^{-8}$. We see that the prior methods yeilds a closer result than the latter.\n",
    "###### Computational efficiency\n",
    "The power methods needs 5 interation to converge to the result. But the linear system of equation  needs more time to compute the result as compared to power method \n",
    "###### Impact of matrix size "
   ]
  },
  {
   "cell_type": "markdown",
   "id": "a3dbb6fb-5e05-4702-ad1c-73071a0fc8f0",
   "metadata": {},
   "source": [
    "# 4. Spectral Norm of a Matrix"
   ]
  },
  {
   "cell_type": "markdown",
   "id": "64d5da54-cf37-4b87-9726-62c265033b9c",
   "metadata": {},
   "source": [
    "#### Power Iteration"
   ]
  },
  {
   "cell_type": "code",
   "execution_count": 504,
   "id": "fe824a26-3a54-4291-972f-6a495ee62845",
   "metadata": {},
   "outputs": [],
   "source": [
    "def powerIteration(G, maxIter): \n",
    "    prev_time = time.time()\n",
    "    U = np.expand_dims(np.random.rand(len(G[0])), axis = 1)\n",
    "    sigma = []\n",
    "    for i in range(maxIter):\n",
    "        calVectorV = G @ U\n",
    "        scalerV = 1/np.linalg.norm(calVectorV, ord = 2)\n",
    "        V = scalerV * calVectorV\n",
    "        calVectorU = G.T @ V\n",
    "        scalerU = 1/np.linalg.norm(calVectorU, ord = 2)\n",
    "        U = scalerU * calVectorU\n",
    "        result = (G @ U).T @ V\n",
    "        sigma.append(result.item())\n",
    "    curr_time = time.time()\n",
    "    return result, curr_time - prev_time, sigma"
   ]
  },
  {
   "cell_type": "markdown",
   "id": "1931018e-798e-4786-b3e4-ff90771a80e6",
   "metadata": {},
   "source": [
    "#### Gram Iteration"
   ]
  },
  {
   "cell_type": "code",
   "execution_count": 505,
   "id": "cc46835c-ab3c-4d83-9e58-93224edff224",
   "metadata": {},
   "outputs": [],
   "source": [
    "def gramIteration(G, maxIter): \n",
    "    prev_time = time.time()\n",
    "    r = 0\n",
    "    m,n = G.shape\n",
    "    if n > m :\n",
    "        G = G.T\n",
    "    sigma = []\n",
    "    for i in range(maxIter):\n",
    "        froNorm = np.linalg.norm(G, 'fro')\n",
    "        r = 2 * (r + np.log(froNorm))  \n",
    "        scalar = 1/froNorm\n",
    "        G = scalar * G\n",
    "        G = G.T @ G \n",
    "        twoExp = 2 ** (-i-1)\n",
    "        froNorm = np.linalg.norm(G, 'fro')\n",
    "        norm = froNorm**(twoExp) \n",
    "        final_norm =  norm * np.exp(twoExp*r)\n",
    "        sigma.append(final_norm.item())\n",
    "\n",
    "    twoExp = 2 ** (-maxIter)\n",
    "    froNorm = np.linalg.norm(G, 'fro')\n",
    "    norm = froNorm**(twoExp) \n",
    "    final_norm =  norm * np.exp(twoExp*r)\n",
    "    sigma.append(final_norm.item())\n",
    "    curr_time = time.time()\n",
    "    return final_norm , curr_time - prev_time, sigma"
   ]
  },
  {
   "cell_type": "code",
   "execution_count": null,
   "id": "f0a61c34-d7a2-4bcc-927e-35aaefee4849",
   "metadata": {},
   "outputs": [],
   "source": []
  },
  {
   "cell_type": "markdown",
   "id": "7be7ef04-277e-4f83-98ee-7577a9e53f66",
   "metadata": {},
   "source": [
    "#### Data Import\n",
    "$\\textbf{1. Initialize the ,G, from the spectral\\_norm\\_matrices folder}$"
   ]
  },
  {
   "cell_type": "code",
   "execution_count": 506,
   "id": "6dfc8004-b156-4faa-a3a8-a1aad8f65814",
   "metadata": {},
   "outputs": [],
   "source": [
    "matrixG = np.loadtxt(\"DATA PA/spectral_norm_matrices/matrix_021.txt\")"
   ]
  },
  {
   "cell_type": "markdown",
   "id": "52fd070f-4e98-4bcb-bda1-715d5f11b3d7",
   "metadata": {},
   "source": [
    "$\\textbf{2. Power iterations on G for at least 2000 iterations using Power Iteration}$"
   ]
  },
  {
   "cell_type": "code",
   "execution_count": 507,
   "id": "e90ddf65-aaac-49d5-be32-79e552c8a0be",
   "metadata": {},
   "outputs": [
    {
     "data": {
      "text/plain": [
       "(array([[42.1367859]]), 0.4148845672607422)"
      ]
     },
     "execution_count": 507,
     "metadata": {},
     "output_type": "execute_result"
    }
   ],
   "source": [
    "spectralNorm, timeDiff, pow_sigma= powerIteration(matrixG, 2000)\n",
    "spectralNorm, timeDiff"
   ]
  },
  {
   "cell_type": "markdown",
   "id": "375a0e86-61d3-4720-8146-4f4b7b9b081c",
   "metadata": {},
   "source": [
    "$\\textbf{3. Gram Iteration on G for at least 15 iterations using Gram Iteration}$"
   ]
  },
  {
   "cell_type": "code",
   "execution_count": 508,
   "id": "2ca709d2-5676-48f0-83d5-65d94aae5cbd",
   "metadata": {},
   "outputs": [
    {
     "data": {
      "text/plain": [
       "(np.float64(42.13678590449723), 0.05385565757751465)"
      ]
     },
     "execution_count": 508,
     "metadata": {},
     "output_type": "execute_result"
    }
   ],
   "source": [
    "gramNorm, timeDiff, gram_sigma = gramIteration(matrixG, 15)\n",
    "gramNorm, timeDiff"
   ]
  },
  {
   "cell_type": "markdown",
   "id": "56589ee5-17cb-44ec-a5b7-583a759b59a5",
   "metadata": {},
   "source": [
    "#### 5. Average runtimes of the 2 algorithms if they're run 100 times\n",
    "##### Average Run time for Power Iteration"
   ]
  },
  {
   "cell_type": "code",
   "execution_count": null,
   "id": "034b7692-b8b4-43c6-92e7-df627c6fde7b",
   "metadata": {},
   "outputs": [],
   "source": [
    "timeDiffSum = 0\n",
    "sigma_power_final = []\n",
    "for i in range(100):\n",
    "    spectralNorm, timeDiff, sigma= powerIteration(matrixG, 2000)\n",
    "    sigma_power_final.append(sigma)\n",
    "    timeDiffSum = timeDiffSum + timeDiff\n",
    "print(timeDiffSum/100)"
   ]
  },
  {
   "cell_type": "markdown",
   "id": "62ba3e5e-2ac8-4c60-a36b-254831237575",
   "metadata": {},
   "source": [
    "##### Average Run time for Gram Iteration"
   ]
  },
  {
   "cell_type": "code",
   "execution_count": null,
   "id": "8148764d-e872-4a57-bc4e-df80bd597cb1",
   "metadata": {},
   "outputs": [],
   "source": [
    "timeDiffSum = 0\n",
    "gram_power_final = []\n",
    "for i in range(100):\n",
    "    gramNorm, timeDiff, sigma = gramIteration(matrixG, 15)\n",
    "    timeDiffSum = timeDiffSum + timeDiff\n",
    "    gram_power_final.append(sigma)\n",
    "print(timeDiffSum/100)"
   ]
  },
  {
   "cell_type": "code",
   "execution_count": null,
   "id": "88e9d838-8dd7-4b02-bcf1-97b379daffa6",
   "metadata": {},
   "outputs": [],
   "source": [
    "np.array(gram_power_final)"
   ]
  },
  {
   "cell_type": "markdown",
   "id": "cadf38d8-8508-49ff-bc41-5ce797fd563b",
   "metadata": {},
   "source": [
    "So, the average runtime for $\\textbf{Power Iterations}$ is $0.366$ seconds and average runtime for $\\textbf{Gram Iterations}$ is  $0.036$ seconds\n",
    "We can see that the difference between the Power Iteration and Gram Iterations is $0.33$ seconds"
   ]
  },
  {
   "cell_type": "markdown",
   "id": "ca3de459-c874-4b0c-8065-b1cc3e0b9e42",
   "metadata": {},
   "source": [
    "#### 6. Use numpy’s svd method to find spectral norm of G\n"
   ]
  },
  {
   "cell_type": "code",
   "execution_count": null,
   "id": "ff3f0e17-f3d5-4631-bb35-fffe659db1c9",
   "metadata": {},
   "outputs": [],
   "source": [
    "SVD = np.linalg.svd(matrixG)\n",
    "SVD[0].shape, SVD[1].shape, SVD[2].shape"
   ]
  },
  {
   "cell_type": "code",
   "execution_count": null,
   "id": "46515bd8-9e87-41a7-b272-a3a3bd2d1212",
   "metadata": {},
   "outputs": [],
   "source": [
    "SVD[1][0]"
   ]
  },
  {
   "cell_type": "markdown",
   "id": "596cb7a6-da0e-414d-8a0c-85c6826753ae",
   "metadata": {},
   "source": [
    "As the maximum singular value of the matrix is spectral norm, we can conclude the spectral norm = 42.13"
   ]
  },
  {
   "cell_type": "markdown",
   "id": "fac039ee-2fb5-42e5-a3c2-4dc58bf6bfa1",
   "metadata": {},
   "source": [
    "#### 7. Log-log scale for spectral norm computation, comparing Power iteration and Gram iteration"
   ]
  },
  {
   "cell_type": "code",
   "execution_count": null,
   "id": "c933bd5a-ecb2-411c-95e2-9d8eac38bff9",
   "metadata": {},
   "outputs": [],
   "source": [
    "sig_pow = np.array(sigma_power_final)\n"
   ]
  },
  {
   "cell_type": "code",
   "execution_count": null,
   "id": "e273ce52-0a22-49b2-9807-1766a0a6eba2",
   "metadata": {},
   "outputs": [],
   "source": [
    "sig_gram = np.array(gram_power_final)"
   ]
  },
  {
   "cell_type": "code",
   "execution_count": null,
   "id": "9cf5835f-96aa-495d-939b-330e1e07f4d1",
   "metadata": {},
   "outputs": [],
   "source": [
    "G_svd=np.linalg.svd(matrixG,compute_uv=False)[0]\n",
    "print(G_svd)"
   ]
  },
  {
   "cell_type": "code",
   "execution_count": null,
   "id": "f8bb13d5-6cdf-4e0a-8fd3-f2640da4085f",
   "metadata": {},
   "outputs": [],
   "source": [
    "range_gram=range((sig_gram.shape[1]))\n",
    "range_pow=range((sig_pow.shape[1]))\n",
    "pow_diff=sig_pow-G_svd\n",
    "gram_diff=sig_gram-G_svd\n",
    " \n",
    "pow_diff_abs=np.abs(pow_diff)\n",
    "gram_diff_abs=np.abs(gram_diff)\n",
    " \n",
    "pow_mean=np.mean(pow_diff_abs,axis=0)\n",
    "gram_mean=np.mean(gram_diff_abs,axis=0)\n",
    "pow_svd=np.std(pow_diff_abs,axis=0)\n",
    "gram_svd=np.std(gram_diff_abs,axis=0)\n",
    " \n",
    " \n",
    "plt.figure(figsize=(12, 6))\n",
    "plt.title(\"Graph\")\n",
    "plt.loglog(range_pow,pow_mean,color='red')\n",
    "plt.fill_between(range_pow,pow_mean-pow_svd,pow_mean+pow_svd,color='r', alpha=0.3)\n",
    "plt.loglog(range_gram,gram_mean,color='blue')\n",
    "plt.fill_between(range_gram,gram_mean-gram_svd,gram_mean+gram_svd,color='green')\n",
    "plt.ylabel('Sigma Diff')\n",
    "plt.xlabel('Gram Iterations')\n",
    " \n",
    "plt.show()"
   ]
  },
  {
   "cell_type": "markdown",
   "id": "9663491f-855f-4b6c-9033-b5b101921293",
   "metadata": {},
   "source": [
    "#### 8. log-log scale for spectral norm computation, comparing power iteration and Gram iteration"
   ]
  },
  {
   "cell_type": "code",
   "execution_count": null,
   "id": "3db18b91-4f40-4aaa-9d26-b03e82d4a951",
   "metadata": {},
   "outputs": [],
   "source": [
    "for row in pow_diff_abs:\n",
    "    plt.loglog(range_pow, row, color=\"r\")\n",
    "\n",
    "for row in gram_diff_abs:\n",
    "    plt.loglog(range_gram, row, color=\"blue\")\n",
    "\n",
    "plt.ylabel('Sigma Diff')\n",
    "plt.xlabel('Gram Iterations')\n",
    "plt.show()"
   ]
  },
  {
   "cell_type": "code",
   "execution_count": null,
   "id": "b86bc65e-27ce-4356-9596-c7bab09165ff",
   "metadata": {},
   "outputs": [],
   "source": []
  },
  {
   "cell_type": "code",
   "execution_count": null,
   "id": "d8c1a9bd-18dd-4728-90ae-3be4ed672e01",
   "metadata": {},
   "outputs": [],
   "source": []
  },
  {
   "cell_type": "code",
   "execution_count": null,
   "id": "4d2ea41d-e50e-433c-b6e2-af2a665335a9",
   "metadata": {},
   "outputs": [],
   "source": []
  },
  {
   "cell_type": "code",
   "execution_count": null,
   "id": "174411b9-3564-4199-8e31-e4a65f5155d6",
   "metadata": {},
   "outputs": [],
   "source": []
  }
 ],
 "metadata": {
  "kernelspec": {
   "display_name": "Python 3 (ipykernel)",
   "language": "python",
   "name": "python3"
  },
  "language_info": {
   "codemirror_mode": {
    "name": "ipython",
    "version": 3
   },
   "file_extension": ".py",
   "mimetype": "text/x-python",
   "name": "python",
   "nbconvert_exporter": "python",
   "pygments_lexer": "ipython3",
   "version": "3.11.5"
  }
 },
 "nbformat": 4,
 "nbformat_minor": 5
}
